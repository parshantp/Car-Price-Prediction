{
 "cells": [
  {
   "cell_type": "markdown",
   "id": "a65881cc-a6ce-4116-b666-894126e0152e",
   "metadata": {},
   "source": [
    "----------------------------------------\n",
    "# Car Price Prediction\n",
    "-------------------------------------------"
   ]
  },
  {
   "cell_type": "code",
   "execution_count": 1,
   "id": "da8ac865-6f36-4f7a-aebb-24bc292a45e5",
   "metadata": {},
   "outputs": [],
   "source": [
    "import warnings\n",
    "warnings.filterwarnings(\"ignore\")\n",
    "\n",
    "import re\n",
    "import pandas as pd\n",
    "import numpy as np \n",
    "import matplotlib.pyplot as plt\n",
    "import seaborn as sns\n",
    "import scipy as st\n",
    "\n",
    "from sklearn.model_selection import train_test_split\n",
    "from sklearn.preprocessing import LabelEncoder\n",
    "from sklearn.metrics import confusion_matrix\n",
    "\n",
    "from sklearn.metrics import accuracy_score\n",
    "\n",
    "from sklearn.tree import DecisionTreeRegressor\n",
    "from sklearn.neighbors import KNeighborsRegressor,KNeighborsClassifier\n",
    "from sklearn.ensemble import RandomForestRegressor\n",
    "\n",
    "from sklearn.metrics import mean_squared_error\n",
    "from sklearn.metrics import mean_absolute_error\n",
    "from sklearn.metrics import mean_absolute_percentage_error\n",
    "from sklearn.metrics import r2_score\n",
    "\n",
    "sns.set_style(\"darkgrid\")"
   ]
  },
  {
   "cell_type": "markdown",
   "id": "dabf6a1e-3790-44be-bc39-8836fe2e8f87",
   "metadata": {},
   "source": [
    "## Loading Data\n",
    "------------------------------"
   ]
  },
  {
   "cell_type": "code",
   "execution_count": 2,
   "id": "07a03247-09da-401a-a733-eae1ce24abc9",
   "metadata": {},
   "outputs": [],
   "source": [
    "link = \"C:/Users/parsh/Downloads/Car details v3.csv\""
   ]
  },
  {
   "cell_type": "code",
   "execution_count": 3,
   "id": "0f5867bc-628f-42d7-90b8-f877f00d0e9e",
   "metadata": {},
   "outputs": [],
   "source": [
    "df = pd.read_csv(link)"
   ]
  },
  {
   "cell_type": "code",
   "execution_count": 4,
   "id": "e02ee006-3e35-4b3f-acfc-a652278cc641",
   "metadata": {},
   "outputs": [
    {
     "data": {
      "text/html": [
       "<div>\n",
       "<style scoped>\n",
       "    .dataframe tbody tr th:only-of-type {\n",
       "        vertical-align: middle;\n",
       "    }\n",
       "\n",
       "    .dataframe tbody tr th {\n",
       "        vertical-align: top;\n",
       "    }\n",
       "\n",
       "    .dataframe thead th {\n",
       "        text-align: right;\n",
       "    }\n",
       "</style>\n",
       "<table border=\"1\" class=\"dataframe\">\n",
       "  <thead>\n",
       "    <tr style=\"text-align: right;\">\n",
       "      <th></th>\n",
       "      <th>name</th>\n",
       "      <th>year</th>\n",
       "      <th>selling_price</th>\n",
       "      <th>km_driven</th>\n",
       "      <th>fuel</th>\n",
       "      <th>seller_type</th>\n",
       "      <th>transmission</th>\n",
       "      <th>owner</th>\n",
       "      <th>mileage</th>\n",
       "      <th>engine</th>\n",
       "      <th>max_power</th>\n",
       "      <th>torque</th>\n",
       "      <th>seats</th>\n",
       "    </tr>\n",
       "  </thead>\n",
       "  <tbody>\n",
       "    <tr>\n",
       "      <th>0</th>\n",
       "      <td>Maruti Swift Dzire VDI</td>\n",
       "      <td>2014</td>\n",
       "      <td>450000</td>\n",
       "      <td>145500</td>\n",
       "      <td>Diesel</td>\n",
       "      <td>Individual</td>\n",
       "      <td>Manual</td>\n",
       "      <td>First Owner</td>\n",
       "      <td>23.4 kmpl</td>\n",
       "      <td>1248 CC</td>\n",
       "      <td>74 bhp</td>\n",
       "      <td>190Nm@ 2000rpm</td>\n",
       "      <td>5.0</td>\n",
       "    </tr>\n",
       "    <tr>\n",
       "      <th>1</th>\n",
       "      <td>Skoda Rapid 1.5 TDI Ambition</td>\n",
       "      <td>2014</td>\n",
       "      <td>370000</td>\n",
       "      <td>120000</td>\n",
       "      <td>Diesel</td>\n",
       "      <td>Individual</td>\n",
       "      <td>Manual</td>\n",
       "      <td>Second Owner</td>\n",
       "      <td>21.14 kmpl</td>\n",
       "      <td>1498 CC</td>\n",
       "      <td>103.52 bhp</td>\n",
       "      <td>250Nm@ 1500-2500rpm</td>\n",
       "      <td>5.0</td>\n",
       "    </tr>\n",
       "    <tr>\n",
       "      <th>2</th>\n",
       "      <td>Honda City 2017-2020 EXi</td>\n",
       "      <td>2006</td>\n",
       "      <td>158000</td>\n",
       "      <td>140000</td>\n",
       "      <td>Petrol</td>\n",
       "      <td>Individual</td>\n",
       "      <td>Manual</td>\n",
       "      <td>Third Owner</td>\n",
       "      <td>17.7 kmpl</td>\n",
       "      <td>1497 CC</td>\n",
       "      <td>78 bhp</td>\n",
       "      <td>12.7@ 2,700(kgm@ rpm)</td>\n",
       "      <td>5.0</td>\n",
       "    </tr>\n",
       "    <tr>\n",
       "      <th>3</th>\n",
       "      <td>Hyundai i20 Sportz Diesel</td>\n",
       "      <td>2010</td>\n",
       "      <td>225000</td>\n",
       "      <td>127000</td>\n",
       "      <td>Diesel</td>\n",
       "      <td>Individual</td>\n",
       "      <td>Manual</td>\n",
       "      <td>First Owner</td>\n",
       "      <td>23.0 kmpl</td>\n",
       "      <td>1396 CC</td>\n",
       "      <td>90 bhp</td>\n",
       "      <td>22.4 kgm at 1750-2750rpm</td>\n",
       "      <td>5.0</td>\n",
       "    </tr>\n",
       "    <tr>\n",
       "      <th>4</th>\n",
       "      <td>Maruti Swift VXI BSIII</td>\n",
       "      <td>2007</td>\n",
       "      <td>130000</td>\n",
       "      <td>120000</td>\n",
       "      <td>Petrol</td>\n",
       "      <td>Individual</td>\n",
       "      <td>Manual</td>\n",
       "      <td>First Owner</td>\n",
       "      <td>16.1 kmpl</td>\n",
       "      <td>1298 CC</td>\n",
       "      <td>88.2 bhp</td>\n",
       "      <td>11.5@ 4,500(kgm@ rpm)</td>\n",
       "      <td>5.0</td>\n",
       "    </tr>\n",
       "  </tbody>\n",
       "</table>\n",
       "</div>"
      ],
      "text/plain": [
       "                           name  year  selling_price  km_driven    fuel  \\\n",
       "0        Maruti Swift Dzire VDI  2014         450000     145500  Diesel   \n",
       "1  Skoda Rapid 1.5 TDI Ambition  2014         370000     120000  Diesel   \n",
       "2      Honda City 2017-2020 EXi  2006         158000     140000  Petrol   \n",
       "3     Hyundai i20 Sportz Diesel  2010         225000     127000  Diesel   \n",
       "4        Maruti Swift VXI BSIII  2007         130000     120000  Petrol   \n",
       "\n",
       "  seller_type transmission         owner     mileage   engine   max_power  \\\n",
       "0  Individual       Manual   First Owner   23.4 kmpl  1248 CC      74 bhp   \n",
       "1  Individual       Manual  Second Owner  21.14 kmpl  1498 CC  103.52 bhp   \n",
       "2  Individual       Manual   Third Owner   17.7 kmpl  1497 CC      78 bhp   \n",
       "3  Individual       Manual   First Owner   23.0 kmpl  1396 CC      90 bhp   \n",
       "4  Individual       Manual   First Owner   16.1 kmpl  1298 CC    88.2 bhp   \n",
       "\n",
       "                     torque  seats  \n",
       "0            190Nm@ 2000rpm    5.0  \n",
       "1       250Nm@ 1500-2500rpm    5.0  \n",
       "2     12.7@ 2,700(kgm@ rpm)    5.0  \n",
       "3  22.4 kgm at 1750-2750rpm    5.0  \n",
       "4     11.5@ 4,500(kgm@ rpm)    5.0  "
      ]
     },
     "execution_count": 4,
     "metadata": {},
     "output_type": "execute_result"
    }
   ],
   "source": [
    "df.head()"
   ]
  },
  {
   "cell_type": "markdown",
   "id": "c70d20df-fa73-4894-93d7-3d437f24c9a1",
   "metadata": {},
   "source": [
    "# Cleaning the Data\n",
    "-------------------------------"
   ]
  },
  {
   "cell_type": "code",
   "execution_count": 5,
   "id": "d2665d97-3e53-4b8f-80da-9ac4e13750d7",
   "metadata": {},
   "outputs": [
    {
     "name": "stdout",
     "output_type": "stream",
     "text": [
      "<class 'pandas.core.frame.DataFrame'>\n",
      "RangeIndex: 8128 entries, 0 to 8127\n",
      "Data columns (total 13 columns):\n",
      " #   Column         Non-Null Count  Dtype  \n",
      "---  ------         --------------  -----  \n",
      " 0   name           8128 non-null   object \n",
      " 1   year           8128 non-null   int64  \n",
      " 2   selling_price  8128 non-null   int64  \n",
      " 3   km_driven      8128 non-null   int64  \n",
      " 4   fuel           8128 non-null   object \n",
      " 5   seller_type    8128 non-null   object \n",
      " 6   transmission   8128 non-null   object \n",
      " 7   owner          8128 non-null   object \n",
      " 8   mileage        7907 non-null   object \n",
      " 9   engine         7907 non-null   object \n",
      " 10  max_power      7913 non-null   object \n",
      " 11  torque         7906 non-null   object \n",
      " 12  seats          7907 non-null   float64\n",
      "dtypes: float64(1), int64(3), object(9)\n",
      "memory usage: 825.6+ KB\n"
     ]
    }
   ],
   "source": [
    "df.info()"
   ]
  },
  {
   "cell_type": "code",
   "execution_count": 6,
   "id": "afdf34d7-536a-4d0c-ac6c-131dd32ce831",
   "metadata": {},
   "outputs": [
    {
     "data": {
      "text/plain": [
       "name               0\n",
       "year               0\n",
       "selling_price      0\n",
       "km_driven          0\n",
       "fuel               0\n",
       "seller_type        0\n",
       "transmission       0\n",
       "owner              0\n",
       "mileage          221\n",
       "engine           221\n",
       "max_power        215\n",
       "torque           222\n",
       "seats            221\n",
       "dtype: int64"
      ]
     },
     "execution_count": 6,
     "metadata": {},
     "output_type": "execute_result"
    }
   ],
   "source": [
    "df.isna().sum()"
   ]
  },
  {
   "cell_type": "markdown",
   "id": "1cd3854d-c78c-4f98-881d-22fa86045da1",
   "metadata": {},
   "source": [
    "## Create a column of Brand\n",
    "-------------------------------"
   ]
  },
  {
   "cell_type": "code",
   "execution_count": 7,
   "id": "1947a52e-0216-41c1-addc-619a52f83ec3",
   "metadata": {},
   "outputs": [],
   "source": [
    "l = lambda x:x.split()[0]\n",
    "\n",
    "df[\"Brand\"] = df[\"name\"].apply(l)"
   ]
  },
  {
   "cell_type": "code",
   "execution_count": 8,
   "id": "f32e1e05-24f8-4ec8-871d-766022a7c64a",
   "metadata": {},
   "outputs": [
    {
     "data": {
      "text/html": [
       "<div>\n",
       "<style scoped>\n",
       "    .dataframe tbody tr th:only-of-type {\n",
       "        vertical-align: middle;\n",
       "    }\n",
       "\n",
       "    .dataframe tbody tr th {\n",
       "        vertical-align: top;\n",
       "    }\n",
       "\n",
       "    .dataframe thead th {\n",
       "        text-align: right;\n",
       "    }\n",
       "</style>\n",
       "<table border=\"1\" class=\"dataframe\">\n",
       "  <thead>\n",
       "    <tr style=\"text-align: right;\">\n",
       "      <th></th>\n",
       "      <th>name</th>\n",
       "      <th>year</th>\n",
       "      <th>selling_price</th>\n",
       "      <th>km_driven</th>\n",
       "      <th>fuel</th>\n",
       "      <th>seller_type</th>\n",
       "      <th>transmission</th>\n",
       "      <th>owner</th>\n",
       "      <th>mileage</th>\n",
       "      <th>engine</th>\n",
       "      <th>max_power</th>\n",
       "      <th>torque</th>\n",
       "      <th>seats</th>\n",
       "      <th>Brand</th>\n",
       "    </tr>\n",
       "  </thead>\n",
       "  <tbody>\n",
       "    <tr>\n",
       "      <th>0</th>\n",
       "      <td>Maruti Swift Dzire VDI</td>\n",
       "      <td>2014</td>\n",
       "      <td>450000</td>\n",
       "      <td>145500</td>\n",
       "      <td>Diesel</td>\n",
       "      <td>Individual</td>\n",
       "      <td>Manual</td>\n",
       "      <td>First Owner</td>\n",
       "      <td>23.4 kmpl</td>\n",
       "      <td>1248 CC</td>\n",
       "      <td>74 bhp</td>\n",
       "      <td>190Nm@ 2000rpm</td>\n",
       "      <td>5.0</td>\n",
       "      <td>Maruti</td>\n",
       "    </tr>\n",
       "    <tr>\n",
       "      <th>1</th>\n",
       "      <td>Skoda Rapid 1.5 TDI Ambition</td>\n",
       "      <td>2014</td>\n",
       "      <td>370000</td>\n",
       "      <td>120000</td>\n",
       "      <td>Diesel</td>\n",
       "      <td>Individual</td>\n",
       "      <td>Manual</td>\n",
       "      <td>Second Owner</td>\n",
       "      <td>21.14 kmpl</td>\n",
       "      <td>1498 CC</td>\n",
       "      <td>103.52 bhp</td>\n",
       "      <td>250Nm@ 1500-2500rpm</td>\n",
       "      <td>5.0</td>\n",
       "      <td>Skoda</td>\n",
       "    </tr>\n",
       "    <tr>\n",
       "      <th>2</th>\n",
       "      <td>Honda City 2017-2020 EXi</td>\n",
       "      <td>2006</td>\n",
       "      <td>158000</td>\n",
       "      <td>140000</td>\n",
       "      <td>Petrol</td>\n",
       "      <td>Individual</td>\n",
       "      <td>Manual</td>\n",
       "      <td>Third Owner</td>\n",
       "      <td>17.7 kmpl</td>\n",
       "      <td>1497 CC</td>\n",
       "      <td>78 bhp</td>\n",
       "      <td>12.7@ 2,700(kgm@ rpm)</td>\n",
       "      <td>5.0</td>\n",
       "      <td>Honda</td>\n",
       "    </tr>\n",
       "    <tr>\n",
       "      <th>3</th>\n",
       "      <td>Hyundai i20 Sportz Diesel</td>\n",
       "      <td>2010</td>\n",
       "      <td>225000</td>\n",
       "      <td>127000</td>\n",
       "      <td>Diesel</td>\n",
       "      <td>Individual</td>\n",
       "      <td>Manual</td>\n",
       "      <td>First Owner</td>\n",
       "      <td>23.0 kmpl</td>\n",
       "      <td>1396 CC</td>\n",
       "      <td>90 bhp</td>\n",
       "      <td>22.4 kgm at 1750-2750rpm</td>\n",
       "      <td>5.0</td>\n",
       "      <td>Hyundai</td>\n",
       "    </tr>\n",
       "    <tr>\n",
       "      <th>4</th>\n",
       "      <td>Maruti Swift VXI BSIII</td>\n",
       "      <td>2007</td>\n",
       "      <td>130000</td>\n",
       "      <td>120000</td>\n",
       "      <td>Petrol</td>\n",
       "      <td>Individual</td>\n",
       "      <td>Manual</td>\n",
       "      <td>First Owner</td>\n",
       "      <td>16.1 kmpl</td>\n",
       "      <td>1298 CC</td>\n",
       "      <td>88.2 bhp</td>\n",
       "      <td>11.5@ 4,500(kgm@ rpm)</td>\n",
       "      <td>5.0</td>\n",
       "      <td>Maruti</td>\n",
       "    </tr>\n",
       "  </tbody>\n",
       "</table>\n",
       "</div>"
      ],
      "text/plain": [
       "                           name  year  selling_price  km_driven    fuel  \\\n",
       "0        Maruti Swift Dzire VDI  2014         450000     145500  Diesel   \n",
       "1  Skoda Rapid 1.5 TDI Ambition  2014         370000     120000  Diesel   \n",
       "2      Honda City 2017-2020 EXi  2006         158000     140000  Petrol   \n",
       "3     Hyundai i20 Sportz Diesel  2010         225000     127000  Diesel   \n",
       "4        Maruti Swift VXI BSIII  2007         130000     120000  Petrol   \n",
       "\n",
       "  seller_type transmission         owner     mileage   engine   max_power  \\\n",
       "0  Individual       Manual   First Owner   23.4 kmpl  1248 CC      74 bhp   \n",
       "1  Individual       Manual  Second Owner  21.14 kmpl  1498 CC  103.52 bhp   \n",
       "2  Individual       Manual   Third Owner   17.7 kmpl  1497 CC      78 bhp   \n",
       "3  Individual       Manual   First Owner   23.0 kmpl  1396 CC      90 bhp   \n",
       "4  Individual       Manual   First Owner   16.1 kmpl  1298 CC    88.2 bhp   \n",
       "\n",
       "                     torque  seats    Brand  \n",
       "0            190Nm@ 2000rpm    5.0   Maruti  \n",
       "1       250Nm@ 1500-2500rpm    5.0    Skoda  \n",
       "2     12.7@ 2,700(kgm@ rpm)    5.0    Honda  \n",
       "3  22.4 kgm at 1750-2750rpm    5.0  Hyundai  \n",
       "4     11.5@ 4,500(kgm@ rpm)    5.0   Maruti  "
      ]
     },
     "execution_count": 8,
     "metadata": {},
     "output_type": "execute_result"
    }
   ],
   "source": [
    "df.head()"
   ]
  },
  {
   "cell_type": "markdown",
   "id": "59413557-975e-41e5-92ac-484e2e08219d",
   "metadata": {},
   "source": [
    "## Create a column of Model\n",
    "---------------------------------"
   ]
  },
  {
   "cell_type": "code",
   "execution_count": 9,
   "id": "ef854b06-96e1-482f-921c-fb94828b0e47",
   "metadata": {},
   "outputs": [],
   "source": [
    "def mod(x):\n",
    "    x = x.split()\n",
    "    x = x[1::]\n",
    "    x = \" \".join(x)\n",
    "    return x"
   ]
  },
  {
   "cell_type": "code",
   "execution_count": 10,
   "id": "8c11b4e9-820b-41a1-b80d-0ffea381cc0b",
   "metadata": {},
   "outputs": [],
   "source": [
    "df[\"Model\"] = df[\"name\"].apply(mod)"
   ]
  },
  {
   "cell_type": "code",
   "execution_count": 11,
   "id": "2569dbdc-4f93-44ea-b902-4b92c9ea2d35",
   "metadata": {},
   "outputs": [
    {
     "data": {
      "text/html": [
       "<div>\n",
       "<style scoped>\n",
       "    .dataframe tbody tr th:only-of-type {\n",
       "        vertical-align: middle;\n",
       "    }\n",
       "\n",
       "    .dataframe tbody tr th {\n",
       "        vertical-align: top;\n",
       "    }\n",
       "\n",
       "    .dataframe thead th {\n",
       "        text-align: right;\n",
       "    }\n",
       "</style>\n",
       "<table border=\"1\" class=\"dataframe\">\n",
       "  <thead>\n",
       "    <tr style=\"text-align: right;\">\n",
       "      <th></th>\n",
       "      <th>name</th>\n",
       "      <th>year</th>\n",
       "      <th>selling_price</th>\n",
       "      <th>km_driven</th>\n",
       "      <th>fuel</th>\n",
       "      <th>seller_type</th>\n",
       "      <th>transmission</th>\n",
       "      <th>owner</th>\n",
       "      <th>mileage</th>\n",
       "      <th>engine</th>\n",
       "      <th>max_power</th>\n",
       "      <th>torque</th>\n",
       "      <th>seats</th>\n",
       "      <th>Brand</th>\n",
       "      <th>Model</th>\n",
       "    </tr>\n",
       "  </thead>\n",
       "  <tbody>\n",
       "    <tr>\n",
       "      <th>0</th>\n",
       "      <td>Maruti Swift Dzire VDI</td>\n",
       "      <td>2014</td>\n",
       "      <td>450000</td>\n",
       "      <td>145500</td>\n",
       "      <td>Diesel</td>\n",
       "      <td>Individual</td>\n",
       "      <td>Manual</td>\n",
       "      <td>First Owner</td>\n",
       "      <td>23.4 kmpl</td>\n",
       "      <td>1248 CC</td>\n",
       "      <td>74 bhp</td>\n",
       "      <td>190Nm@ 2000rpm</td>\n",
       "      <td>5.0</td>\n",
       "      <td>Maruti</td>\n",
       "      <td>Swift Dzire VDI</td>\n",
       "    </tr>\n",
       "    <tr>\n",
       "      <th>1</th>\n",
       "      <td>Skoda Rapid 1.5 TDI Ambition</td>\n",
       "      <td>2014</td>\n",
       "      <td>370000</td>\n",
       "      <td>120000</td>\n",
       "      <td>Diesel</td>\n",
       "      <td>Individual</td>\n",
       "      <td>Manual</td>\n",
       "      <td>Second Owner</td>\n",
       "      <td>21.14 kmpl</td>\n",
       "      <td>1498 CC</td>\n",
       "      <td>103.52 bhp</td>\n",
       "      <td>250Nm@ 1500-2500rpm</td>\n",
       "      <td>5.0</td>\n",
       "      <td>Skoda</td>\n",
       "      <td>Rapid 1.5 TDI Ambition</td>\n",
       "    </tr>\n",
       "    <tr>\n",
       "      <th>2</th>\n",
       "      <td>Honda City 2017-2020 EXi</td>\n",
       "      <td>2006</td>\n",
       "      <td>158000</td>\n",
       "      <td>140000</td>\n",
       "      <td>Petrol</td>\n",
       "      <td>Individual</td>\n",
       "      <td>Manual</td>\n",
       "      <td>Third Owner</td>\n",
       "      <td>17.7 kmpl</td>\n",
       "      <td>1497 CC</td>\n",
       "      <td>78 bhp</td>\n",
       "      <td>12.7@ 2,700(kgm@ rpm)</td>\n",
       "      <td>5.0</td>\n",
       "      <td>Honda</td>\n",
       "      <td>City 2017-2020 EXi</td>\n",
       "    </tr>\n",
       "    <tr>\n",
       "      <th>3</th>\n",
       "      <td>Hyundai i20 Sportz Diesel</td>\n",
       "      <td>2010</td>\n",
       "      <td>225000</td>\n",
       "      <td>127000</td>\n",
       "      <td>Diesel</td>\n",
       "      <td>Individual</td>\n",
       "      <td>Manual</td>\n",
       "      <td>First Owner</td>\n",
       "      <td>23.0 kmpl</td>\n",
       "      <td>1396 CC</td>\n",
       "      <td>90 bhp</td>\n",
       "      <td>22.4 kgm at 1750-2750rpm</td>\n",
       "      <td>5.0</td>\n",
       "      <td>Hyundai</td>\n",
       "      <td>i20 Sportz Diesel</td>\n",
       "    </tr>\n",
       "    <tr>\n",
       "      <th>4</th>\n",
       "      <td>Maruti Swift VXI BSIII</td>\n",
       "      <td>2007</td>\n",
       "      <td>130000</td>\n",
       "      <td>120000</td>\n",
       "      <td>Petrol</td>\n",
       "      <td>Individual</td>\n",
       "      <td>Manual</td>\n",
       "      <td>First Owner</td>\n",
       "      <td>16.1 kmpl</td>\n",
       "      <td>1298 CC</td>\n",
       "      <td>88.2 bhp</td>\n",
       "      <td>11.5@ 4,500(kgm@ rpm)</td>\n",
       "      <td>5.0</td>\n",
       "      <td>Maruti</td>\n",
       "      <td>Swift VXI BSIII</td>\n",
       "    </tr>\n",
       "  </tbody>\n",
       "</table>\n",
       "</div>"
      ],
      "text/plain": [
       "                           name  year  selling_price  km_driven    fuel  \\\n",
       "0        Maruti Swift Dzire VDI  2014         450000     145500  Diesel   \n",
       "1  Skoda Rapid 1.5 TDI Ambition  2014         370000     120000  Diesel   \n",
       "2      Honda City 2017-2020 EXi  2006         158000     140000  Petrol   \n",
       "3     Hyundai i20 Sportz Diesel  2010         225000     127000  Diesel   \n",
       "4        Maruti Swift VXI BSIII  2007         130000     120000  Petrol   \n",
       "\n",
       "  seller_type transmission         owner     mileage   engine   max_power  \\\n",
       "0  Individual       Manual   First Owner   23.4 kmpl  1248 CC      74 bhp   \n",
       "1  Individual       Manual  Second Owner  21.14 kmpl  1498 CC  103.52 bhp   \n",
       "2  Individual       Manual   Third Owner   17.7 kmpl  1497 CC      78 bhp   \n",
       "3  Individual       Manual   First Owner   23.0 kmpl  1396 CC      90 bhp   \n",
       "4  Individual       Manual   First Owner   16.1 kmpl  1298 CC    88.2 bhp   \n",
       "\n",
       "                     torque  seats    Brand                   Model  \n",
       "0            190Nm@ 2000rpm    5.0   Maruti         Swift Dzire VDI  \n",
       "1       250Nm@ 1500-2500rpm    5.0    Skoda  Rapid 1.5 TDI Ambition  \n",
       "2     12.7@ 2,700(kgm@ rpm)    5.0    Honda      City 2017-2020 EXi  \n",
       "3  22.4 kgm at 1750-2750rpm    5.0  Hyundai       i20 Sportz Diesel  \n",
       "4     11.5@ 4,500(kgm@ rpm)    5.0   Maruti         Swift VXI BSIII  "
      ]
     },
     "execution_count": 11,
     "metadata": {},
     "output_type": "execute_result"
    }
   ],
   "source": [
    "df.head()"
   ]
  },
  {
   "cell_type": "markdown",
   "id": "f533622c-1f1a-4c65-a9e7-ad8f9c062127",
   "metadata": {},
   "source": [
    "## Delete the column of name\n",
    "------------------------------------------"
   ]
  },
  {
   "cell_type": "code",
   "execution_count": 12,
   "id": "a685510a-296c-4cd6-9678-550613a351da",
   "metadata": {},
   "outputs": [],
   "source": [
    "df.drop(columns=[\"name\"],inplace=True)"
   ]
  },
  {
   "cell_type": "code",
   "execution_count": 13,
   "id": "e39c93f3-cf7a-44a6-8cf6-5c76b0150147",
   "metadata": {},
   "outputs": [
    {
     "data": {
      "text/html": [
       "<div>\n",
       "<style scoped>\n",
       "    .dataframe tbody tr th:only-of-type {\n",
       "        vertical-align: middle;\n",
       "    }\n",
       "\n",
       "    .dataframe tbody tr th {\n",
       "        vertical-align: top;\n",
       "    }\n",
       "\n",
       "    .dataframe thead th {\n",
       "        text-align: right;\n",
       "    }\n",
       "</style>\n",
       "<table border=\"1\" class=\"dataframe\">\n",
       "  <thead>\n",
       "    <tr style=\"text-align: right;\">\n",
       "      <th></th>\n",
       "      <th>year</th>\n",
       "      <th>selling_price</th>\n",
       "      <th>km_driven</th>\n",
       "      <th>fuel</th>\n",
       "      <th>seller_type</th>\n",
       "      <th>transmission</th>\n",
       "      <th>owner</th>\n",
       "      <th>mileage</th>\n",
       "      <th>engine</th>\n",
       "      <th>max_power</th>\n",
       "      <th>torque</th>\n",
       "      <th>seats</th>\n",
       "      <th>Brand</th>\n",
       "      <th>Model</th>\n",
       "    </tr>\n",
       "  </thead>\n",
       "  <tbody>\n",
       "    <tr>\n",
       "      <th>0</th>\n",
       "      <td>2014</td>\n",
       "      <td>450000</td>\n",
       "      <td>145500</td>\n",
       "      <td>Diesel</td>\n",
       "      <td>Individual</td>\n",
       "      <td>Manual</td>\n",
       "      <td>First Owner</td>\n",
       "      <td>23.4 kmpl</td>\n",
       "      <td>1248 CC</td>\n",
       "      <td>74 bhp</td>\n",
       "      <td>190Nm@ 2000rpm</td>\n",
       "      <td>5.0</td>\n",
       "      <td>Maruti</td>\n",
       "      <td>Swift Dzire VDI</td>\n",
       "    </tr>\n",
       "    <tr>\n",
       "      <th>1</th>\n",
       "      <td>2014</td>\n",
       "      <td>370000</td>\n",
       "      <td>120000</td>\n",
       "      <td>Diesel</td>\n",
       "      <td>Individual</td>\n",
       "      <td>Manual</td>\n",
       "      <td>Second Owner</td>\n",
       "      <td>21.14 kmpl</td>\n",
       "      <td>1498 CC</td>\n",
       "      <td>103.52 bhp</td>\n",
       "      <td>250Nm@ 1500-2500rpm</td>\n",
       "      <td>5.0</td>\n",
       "      <td>Skoda</td>\n",
       "      <td>Rapid 1.5 TDI Ambition</td>\n",
       "    </tr>\n",
       "    <tr>\n",
       "      <th>2</th>\n",
       "      <td>2006</td>\n",
       "      <td>158000</td>\n",
       "      <td>140000</td>\n",
       "      <td>Petrol</td>\n",
       "      <td>Individual</td>\n",
       "      <td>Manual</td>\n",
       "      <td>Third Owner</td>\n",
       "      <td>17.7 kmpl</td>\n",
       "      <td>1497 CC</td>\n",
       "      <td>78 bhp</td>\n",
       "      <td>12.7@ 2,700(kgm@ rpm)</td>\n",
       "      <td>5.0</td>\n",
       "      <td>Honda</td>\n",
       "      <td>City 2017-2020 EXi</td>\n",
       "    </tr>\n",
       "    <tr>\n",
       "      <th>3</th>\n",
       "      <td>2010</td>\n",
       "      <td>225000</td>\n",
       "      <td>127000</td>\n",
       "      <td>Diesel</td>\n",
       "      <td>Individual</td>\n",
       "      <td>Manual</td>\n",
       "      <td>First Owner</td>\n",
       "      <td>23.0 kmpl</td>\n",
       "      <td>1396 CC</td>\n",
       "      <td>90 bhp</td>\n",
       "      <td>22.4 kgm at 1750-2750rpm</td>\n",
       "      <td>5.0</td>\n",
       "      <td>Hyundai</td>\n",
       "      <td>i20 Sportz Diesel</td>\n",
       "    </tr>\n",
       "    <tr>\n",
       "      <th>4</th>\n",
       "      <td>2007</td>\n",
       "      <td>130000</td>\n",
       "      <td>120000</td>\n",
       "      <td>Petrol</td>\n",
       "      <td>Individual</td>\n",
       "      <td>Manual</td>\n",
       "      <td>First Owner</td>\n",
       "      <td>16.1 kmpl</td>\n",
       "      <td>1298 CC</td>\n",
       "      <td>88.2 bhp</td>\n",
       "      <td>11.5@ 4,500(kgm@ rpm)</td>\n",
       "      <td>5.0</td>\n",
       "      <td>Maruti</td>\n",
       "      <td>Swift VXI BSIII</td>\n",
       "    </tr>\n",
       "  </tbody>\n",
       "</table>\n",
       "</div>"
      ],
      "text/plain": [
       "   year  selling_price  km_driven    fuel seller_type transmission  \\\n",
       "0  2014         450000     145500  Diesel  Individual       Manual   \n",
       "1  2014         370000     120000  Diesel  Individual       Manual   \n",
       "2  2006         158000     140000  Petrol  Individual       Manual   \n",
       "3  2010         225000     127000  Diesel  Individual       Manual   \n",
       "4  2007         130000     120000  Petrol  Individual       Manual   \n",
       "\n",
       "          owner     mileage   engine   max_power                    torque  \\\n",
       "0   First Owner   23.4 kmpl  1248 CC      74 bhp            190Nm@ 2000rpm   \n",
       "1  Second Owner  21.14 kmpl  1498 CC  103.52 bhp       250Nm@ 1500-2500rpm   \n",
       "2   Third Owner   17.7 kmpl  1497 CC      78 bhp     12.7@ 2,700(kgm@ rpm)   \n",
       "3   First Owner   23.0 kmpl  1396 CC      90 bhp  22.4 kgm at 1750-2750rpm   \n",
       "4   First Owner   16.1 kmpl  1298 CC    88.2 bhp     11.5@ 4,500(kgm@ rpm)   \n",
       "\n",
       "   seats    Brand                   Model  \n",
       "0    5.0   Maruti         Swift Dzire VDI  \n",
       "1    5.0    Skoda  Rapid 1.5 TDI Ambition  \n",
       "2    5.0    Honda      City 2017-2020 EXi  \n",
       "3    5.0  Hyundai       i20 Sportz Diesel  \n",
       "4    5.0   Maruti         Swift VXI BSIII  "
      ]
     },
     "execution_count": 13,
     "metadata": {},
     "output_type": "execute_result"
    }
   ],
   "source": [
    "df.head()"
   ]
  },
  {
   "cell_type": "markdown",
   "id": "f89b76e0-0950-44f3-abd8-bb9da927b2fd",
   "metadata": {},
   "source": [
    "# Cleaning all columns one by one\n",
    "------------------------------------"
   ]
  },
  {
   "cell_type": "code",
   "execution_count": 14,
   "id": "f55ba21e-abea-456d-9933-91ff3f604d88",
   "metadata": {},
   "outputs": [],
   "source": [
    "df[\"mileage\"].fillna(df[\"mileage\"].mode()[0],inplace=True)"
   ]
  },
  {
   "cell_type": "code",
   "execution_count": 15,
   "id": "34aa4846-2d20-4915-a44a-d2a13fe19d18",
   "metadata": {},
   "outputs": [],
   "source": [
    "l = lambda x:x.split()[0]"
   ]
  },
  {
   "cell_type": "code",
   "execution_count": 16,
   "id": "c73bf937-4a95-438a-8dbe-12295aae5e02",
   "metadata": {},
   "outputs": [],
   "source": [
    "df[\"Mileage\"] = df[\"mileage\"].apply(l)"
   ]
  },
  {
   "cell_type": "code",
   "execution_count": 17,
   "id": "bcf26ee2-f84f-4bf0-89e8-ee477e2404fa",
   "metadata": {},
   "outputs": [],
   "source": [
    "a = lambda x:x.split()[-1]"
   ]
  },
  {
   "cell_type": "code",
   "execution_count": 18,
   "id": "e58441f6-bef8-490f-b69d-e46c7a346569",
   "metadata": {},
   "outputs": [],
   "source": [
    "df[\"Mileage_Unit\"] = df[\"mileage\"].apply(a)"
   ]
  },
  {
   "cell_type": "code",
   "execution_count": 19,
   "id": "758e0722-3275-443f-a12b-2231a4a6ebe5",
   "metadata": {},
   "outputs": [],
   "source": [
    "df.drop(columns=[\"mileage\"],inplace=True)"
   ]
  },
  {
   "cell_type": "code",
   "execution_count": 20,
   "id": "39b62bf8-e7ee-461a-9677-0d153b6527ea",
   "metadata": {},
   "outputs": [
    {
     "data": {
      "text/plain": [
       "dtype('O')"
      ]
     },
     "execution_count": 20,
     "metadata": {},
     "output_type": "execute_result"
    }
   ],
   "source": [
    "df[\"Mileage\"].dtype"
   ]
  },
  {
   "cell_type": "code",
   "execution_count": 21,
   "id": "60edc9b9-fc1c-46c1-90bc-a613cc3d22a6",
   "metadata": {},
   "outputs": [],
   "source": [
    "df[\"Mileage\"] = df[\"Mileage\"].astype(float)"
   ]
  },
  {
   "cell_type": "code",
   "execution_count": 22,
   "id": "d7c17bec-abb2-422b-a6f8-d2945bd51797",
   "metadata": {},
   "outputs": [
    {
     "data": {
      "text/plain": [
       "dtype('float64')"
      ]
     },
     "execution_count": 22,
     "metadata": {},
     "output_type": "execute_result"
    }
   ],
   "source": [
    "df[\"Mileage\"].dtype"
   ]
  },
  {
   "cell_type": "code",
   "execution_count": 23,
   "id": "0f9c9c64-fc2d-46c7-a7f6-d45613a1e242",
   "metadata": {},
   "outputs": [
    {
     "data": {
      "text/html": [
       "<div>\n",
       "<style scoped>\n",
       "    .dataframe tbody tr th:only-of-type {\n",
       "        vertical-align: middle;\n",
       "    }\n",
       "\n",
       "    .dataframe tbody tr th {\n",
       "        vertical-align: top;\n",
       "    }\n",
       "\n",
       "    .dataframe thead th {\n",
       "        text-align: right;\n",
       "    }\n",
       "</style>\n",
       "<table border=\"1\" class=\"dataframe\">\n",
       "  <thead>\n",
       "    <tr style=\"text-align: right;\">\n",
       "      <th></th>\n",
       "      <th>year</th>\n",
       "      <th>selling_price</th>\n",
       "      <th>km_driven</th>\n",
       "      <th>fuel</th>\n",
       "      <th>seller_type</th>\n",
       "      <th>transmission</th>\n",
       "      <th>owner</th>\n",
       "      <th>engine</th>\n",
       "      <th>max_power</th>\n",
       "      <th>torque</th>\n",
       "      <th>seats</th>\n",
       "      <th>Brand</th>\n",
       "      <th>Model</th>\n",
       "      <th>Mileage</th>\n",
       "      <th>Mileage_Unit</th>\n",
       "    </tr>\n",
       "  </thead>\n",
       "  <tbody>\n",
       "    <tr>\n",
       "      <th>0</th>\n",
       "      <td>2014</td>\n",
       "      <td>450000</td>\n",
       "      <td>145500</td>\n",
       "      <td>Diesel</td>\n",
       "      <td>Individual</td>\n",
       "      <td>Manual</td>\n",
       "      <td>First Owner</td>\n",
       "      <td>1248 CC</td>\n",
       "      <td>74 bhp</td>\n",
       "      <td>190Nm@ 2000rpm</td>\n",
       "      <td>5.0</td>\n",
       "      <td>Maruti</td>\n",
       "      <td>Swift Dzire VDI</td>\n",
       "      <td>23.40</td>\n",
       "      <td>kmpl</td>\n",
       "    </tr>\n",
       "    <tr>\n",
       "      <th>1</th>\n",
       "      <td>2014</td>\n",
       "      <td>370000</td>\n",
       "      <td>120000</td>\n",
       "      <td>Diesel</td>\n",
       "      <td>Individual</td>\n",
       "      <td>Manual</td>\n",
       "      <td>Second Owner</td>\n",
       "      <td>1498 CC</td>\n",
       "      <td>103.52 bhp</td>\n",
       "      <td>250Nm@ 1500-2500rpm</td>\n",
       "      <td>5.0</td>\n",
       "      <td>Skoda</td>\n",
       "      <td>Rapid 1.5 TDI Ambition</td>\n",
       "      <td>21.14</td>\n",
       "      <td>kmpl</td>\n",
       "    </tr>\n",
       "    <tr>\n",
       "      <th>2</th>\n",
       "      <td>2006</td>\n",
       "      <td>158000</td>\n",
       "      <td>140000</td>\n",
       "      <td>Petrol</td>\n",
       "      <td>Individual</td>\n",
       "      <td>Manual</td>\n",
       "      <td>Third Owner</td>\n",
       "      <td>1497 CC</td>\n",
       "      <td>78 bhp</td>\n",
       "      <td>12.7@ 2,700(kgm@ rpm)</td>\n",
       "      <td>5.0</td>\n",
       "      <td>Honda</td>\n",
       "      <td>City 2017-2020 EXi</td>\n",
       "      <td>17.70</td>\n",
       "      <td>kmpl</td>\n",
       "    </tr>\n",
       "    <tr>\n",
       "      <th>3</th>\n",
       "      <td>2010</td>\n",
       "      <td>225000</td>\n",
       "      <td>127000</td>\n",
       "      <td>Diesel</td>\n",
       "      <td>Individual</td>\n",
       "      <td>Manual</td>\n",
       "      <td>First Owner</td>\n",
       "      <td>1396 CC</td>\n",
       "      <td>90 bhp</td>\n",
       "      <td>22.4 kgm at 1750-2750rpm</td>\n",
       "      <td>5.0</td>\n",
       "      <td>Hyundai</td>\n",
       "      <td>i20 Sportz Diesel</td>\n",
       "      <td>23.00</td>\n",
       "      <td>kmpl</td>\n",
       "    </tr>\n",
       "    <tr>\n",
       "      <th>4</th>\n",
       "      <td>2007</td>\n",
       "      <td>130000</td>\n",
       "      <td>120000</td>\n",
       "      <td>Petrol</td>\n",
       "      <td>Individual</td>\n",
       "      <td>Manual</td>\n",
       "      <td>First Owner</td>\n",
       "      <td>1298 CC</td>\n",
       "      <td>88.2 bhp</td>\n",
       "      <td>11.5@ 4,500(kgm@ rpm)</td>\n",
       "      <td>5.0</td>\n",
       "      <td>Maruti</td>\n",
       "      <td>Swift VXI BSIII</td>\n",
       "      <td>16.10</td>\n",
       "      <td>kmpl</td>\n",
       "    </tr>\n",
       "  </tbody>\n",
       "</table>\n",
       "</div>"
      ],
      "text/plain": [
       "   year  selling_price  km_driven    fuel seller_type transmission  \\\n",
       "0  2014         450000     145500  Diesel  Individual       Manual   \n",
       "1  2014         370000     120000  Diesel  Individual       Manual   \n",
       "2  2006         158000     140000  Petrol  Individual       Manual   \n",
       "3  2010         225000     127000  Diesel  Individual       Manual   \n",
       "4  2007         130000     120000  Petrol  Individual       Manual   \n",
       "\n",
       "          owner   engine   max_power                    torque  seats  \\\n",
       "0   First Owner  1248 CC      74 bhp            190Nm@ 2000rpm    5.0   \n",
       "1  Second Owner  1498 CC  103.52 bhp       250Nm@ 1500-2500rpm    5.0   \n",
       "2   Third Owner  1497 CC      78 bhp     12.7@ 2,700(kgm@ rpm)    5.0   \n",
       "3   First Owner  1396 CC      90 bhp  22.4 kgm at 1750-2750rpm    5.0   \n",
       "4   First Owner  1298 CC    88.2 bhp     11.5@ 4,500(kgm@ rpm)    5.0   \n",
       "\n",
       "     Brand                   Model  Mileage Mileage_Unit  \n",
       "0   Maruti         Swift Dzire VDI    23.40         kmpl  \n",
       "1    Skoda  Rapid 1.5 TDI Ambition    21.14         kmpl  \n",
       "2    Honda      City 2017-2020 EXi    17.70         kmpl  \n",
       "3  Hyundai       i20 Sportz Diesel    23.00         kmpl  \n",
       "4   Maruti         Swift VXI BSIII    16.10         kmpl  "
      ]
     },
     "execution_count": 23,
     "metadata": {},
     "output_type": "execute_result"
    }
   ],
   "source": [
    "df.head()"
   ]
  },
  {
   "cell_type": "code",
   "execution_count": 24,
   "id": "0601f27f-5d6b-4f15-8b39-14f86d8b14be",
   "metadata": {},
   "outputs": [
    {
     "data": {
      "text/plain": [
       "<bound method Series.unique of 0           74 bhp\n",
       "1       103.52 bhp\n",
       "2           78 bhp\n",
       "3           90 bhp\n",
       "4         88.2 bhp\n",
       "           ...    \n",
       "8123     82.85 bhp\n",
       "8124       110 bhp\n",
       "8125      73.9 bhp\n",
       "8126        70 bhp\n",
       "8127        70 bhp\n",
       "Name: max_power, Length: 8128, dtype: object>"
      ]
     },
     "execution_count": 24,
     "metadata": {},
     "output_type": "execute_result"
    }
   ],
   "source": [
    "df[\"max_power\"].unique"
   ]
  },
  {
   "cell_type": "code",
   "execution_count": 25,
   "id": "8841a7c8-a0ee-4b7a-9bd5-55853abaf58e",
   "metadata": {},
   "outputs": [],
   "source": [
    "df[\"max_power\"] = df[\"max_power\"].str.replace(\"bhp\",\"\")\n",
    "df[\"max_power\"] = df[\"max_power\"].str.replace(\" \",\"\")"
   ]
  },
  {
   "cell_type": "code",
   "execution_count": 26,
   "id": "22c78b84-aa64-4ec7-97fe-2222798f9ecb",
   "metadata": {},
   "outputs": [],
   "source": [
    "df[\"max_power\"].fillna(df[\"max_power\"].mode()[0],inplace=True)"
   ]
  },
  {
   "cell_type": "code",
   "execution_count": 27,
   "id": "3984dd67-8d86-4fae-8cfc-fe5ef5c4cdff",
   "metadata": {},
   "outputs": [
    {
     "data": {
      "text/html": [
       "<div>\n",
       "<style scoped>\n",
       "    .dataframe tbody tr th:only-of-type {\n",
       "        vertical-align: middle;\n",
       "    }\n",
       "\n",
       "    .dataframe tbody tr th {\n",
       "        vertical-align: top;\n",
       "    }\n",
       "\n",
       "    .dataframe thead th {\n",
       "        text-align: right;\n",
       "    }\n",
       "</style>\n",
       "<table border=\"1\" class=\"dataframe\">\n",
       "  <thead>\n",
       "    <tr style=\"text-align: right;\">\n",
       "      <th></th>\n",
       "      <th>year</th>\n",
       "      <th>selling_price</th>\n",
       "      <th>km_driven</th>\n",
       "      <th>fuel</th>\n",
       "      <th>seller_type</th>\n",
       "      <th>transmission</th>\n",
       "      <th>owner</th>\n",
       "      <th>engine</th>\n",
       "      <th>max_power</th>\n",
       "      <th>torque</th>\n",
       "      <th>seats</th>\n",
       "      <th>Brand</th>\n",
       "      <th>Model</th>\n",
       "      <th>Mileage</th>\n",
       "      <th>Mileage_Unit</th>\n",
       "    </tr>\n",
       "  </thead>\n",
       "  <tbody>\n",
       "    <tr>\n",
       "      <th>4933</th>\n",
       "      <td>2000</td>\n",
       "      <td>80000</td>\n",
       "      <td>100000</td>\n",
       "      <td>CNG</td>\n",
       "      <td>Individual</td>\n",
       "      <td>Manual</td>\n",
       "      <td>Second Owner</td>\n",
       "      <td>796 CC</td>\n",
       "      <td></td>\n",
       "      <td>NaN</td>\n",
       "      <td>8.0</td>\n",
       "      <td>Maruti</td>\n",
       "      <td>Omni CNG</td>\n",
       "      <td>10.9</td>\n",
       "      <td>km/kg</td>\n",
       "    </tr>\n",
       "  </tbody>\n",
       "</table>\n",
       "</div>"
      ],
      "text/plain": [
       "      year  selling_price  km_driven fuel seller_type transmission  \\\n",
       "4933  2000          80000     100000  CNG  Individual       Manual   \n",
       "\n",
       "             owner  engine max_power torque  seats   Brand     Model  Mileage  \\\n",
       "4933  Second Owner  796 CC              NaN    8.0  Maruti  Omni CNG     10.9   \n",
       "\n",
       "     Mileage_Unit  \n",
       "4933        km/kg  "
      ]
     },
     "execution_count": 27,
     "metadata": {},
     "output_type": "execute_result"
    }
   ],
   "source": [
    "df[df[\"max_power\"]==\"\"]"
   ]
  },
  {
   "cell_type": "code",
   "execution_count": 28,
   "id": "bca7267e-f48e-4fa5-a130-27f595ede49c",
   "metadata": {},
   "outputs": [],
   "source": [
    "df[\"max_power\"] = df[\"max_power\"].str.replace(\"\",\"0\")"
   ]
  },
  {
   "cell_type": "code",
   "execution_count": 29,
   "id": "50db049c-46f4-4e14-b89f-94fb335de27e",
   "metadata": {},
   "outputs": [],
   "source": [
    "df[\"max_power\"] = df[\"max_power\"].astype(float)"
   ]
  },
  {
   "cell_type": "code",
   "execution_count": 30,
   "id": "282706b4-f0db-45ce-8624-e02c1b59ba6a",
   "metadata": {},
   "outputs": [
    {
     "data": {
      "text/html": [
       "<div>\n",
       "<style scoped>\n",
       "    .dataframe tbody tr th:only-of-type {\n",
       "        vertical-align: middle;\n",
       "    }\n",
       "\n",
       "    .dataframe tbody tr th {\n",
       "        vertical-align: top;\n",
       "    }\n",
       "\n",
       "    .dataframe thead th {\n",
       "        text-align: right;\n",
       "    }\n",
       "</style>\n",
       "<table border=\"1\" class=\"dataframe\">\n",
       "  <thead>\n",
       "    <tr style=\"text-align: right;\">\n",
       "      <th></th>\n",
       "      <th>year</th>\n",
       "      <th>selling_price</th>\n",
       "      <th>km_driven</th>\n",
       "      <th>fuel</th>\n",
       "      <th>seller_type</th>\n",
       "      <th>transmission</th>\n",
       "      <th>owner</th>\n",
       "      <th>engine</th>\n",
       "      <th>max_power</th>\n",
       "      <th>torque</th>\n",
       "      <th>seats</th>\n",
       "      <th>Brand</th>\n",
       "      <th>Model</th>\n",
       "      <th>Mileage</th>\n",
       "      <th>Mileage_Unit</th>\n",
       "    </tr>\n",
       "  </thead>\n",
       "  <tbody>\n",
       "    <tr>\n",
       "      <th>0</th>\n",
       "      <td>2014</td>\n",
       "      <td>450000</td>\n",
       "      <td>145500</td>\n",
       "      <td>Diesel</td>\n",
       "      <td>Individual</td>\n",
       "      <td>Manual</td>\n",
       "      <td>First Owner</td>\n",
       "      <td>1248 CC</td>\n",
       "      <td>7040.0000</td>\n",
       "      <td>190Nm@ 2000rpm</td>\n",
       "      <td>5.0</td>\n",
       "      <td>Maruti</td>\n",
       "      <td>Swift Dzire VDI</td>\n",
       "      <td>23.40</td>\n",
       "      <td>kmpl</td>\n",
       "    </tr>\n",
       "    <tr>\n",
       "      <th>1</th>\n",
       "      <td>2014</td>\n",
       "      <td>370000</td>\n",
       "      <td>120000</td>\n",
       "      <td>Diesel</td>\n",
       "      <td>Individual</td>\n",
       "      <td>Manual</td>\n",
       "      <td>Second Owner</td>\n",
       "      <td>1498 CC</td>\n",
       "      <td>100030.0502</td>\n",
       "      <td>250Nm@ 1500-2500rpm</td>\n",
       "      <td>5.0</td>\n",
       "      <td>Skoda</td>\n",
       "      <td>Rapid 1.5 TDI Ambition</td>\n",
       "      <td>21.14</td>\n",
       "      <td>kmpl</td>\n",
       "    </tr>\n",
       "    <tr>\n",
       "      <th>2</th>\n",
       "      <td>2006</td>\n",
       "      <td>158000</td>\n",
       "      <td>140000</td>\n",
       "      <td>Petrol</td>\n",
       "      <td>Individual</td>\n",
       "      <td>Manual</td>\n",
       "      <td>Third Owner</td>\n",
       "      <td>1497 CC</td>\n",
       "      <td>7080.0000</td>\n",
       "      <td>12.7@ 2,700(kgm@ rpm)</td>\n",
       "      <td>5.0</td>\n",
       "      <td>Honda</td>\n",
       "      <td>City 2017-2020 EXi</td>\n",
       "      <td>17.70</td>\n",
       "      <td>kmpl</td>\n",
       "    </tr>\n",
       "    <tr>\n",
       "      <th>3</th>\n",
       "      <td>2010</td>\n",
       "      <td>225000</td>\n",
       "      <td>127000</td>\n",
       "      <td>Diesel</td>\n",
       "      <td>Individual</td>\n",
       "      <td>Manual</td>\n",
       "      <td>First Owner</td>\n",
       "      <td>1396 CC</td>\n",
       "      <td>9000.0000</td>\n",
       "      <td>22.4 kgm at 1750-2750rpm</td>\n",
       "      <td>5.0</td>\n",
       "      <td>Hyundai</td>\n",
       "      <td>i20 Sportz Diesel</td>\n",
       "      <td>23.00</td>\n",
       "      <td>kmpl</td>\n",
       "    </tr>\n",
       "    <tr>\n",
       "      <th>4</th>\n",
       "      <td>2007</td>\n",
       "      <td>130000</td>\n",
       "      <td>120000</td>\n",
       "      <td>Petrol</td>\n",
       "      <td>Individual</td>\n",
       "      <td>Manual</td>\n",
       "      <td>First Owner</td>\n",
       "      <td>1298 CC</td>\n",
       "      <td>8080.0200</td>\n",
       "      <td>11.5@ 4,500(kgm@ rpm)</td>\n",
       "      <td>5.0</td>\n",
       "      <td>Maruti</td>\n",
       "      <td>Swift VXI BSIII</td>\n",
       "      <td>16.10</td>\n",
       "      <td>kmpl</td>\n",
       "    </tr>\n",
       "  </tbody>\n",
       "</table>\n",
       "</div>"
      ],
      "text/plain": [
       "   year  selling_price  km_driven    fuel seller_type transmission  \\\n",
       "0  2014         450000     145500  Diesel  Individual       Manual   \n",
       "1  2014         370000     120000  Diesel  Individual       Manual   \n",
       "2  2006         158000     140000  Petrol  Individual       Manual   \n",
       "3  2010         225000     127000  Diesel  Individual       Manual   \n",
       "4  2007         130000     120000  Petrol  Individual       Manual   \n",
       "\n",
       "          owner   engine    max_power                    torque  seats  \\\n",
       "0   First Owner  1248 CC    7040.0000            190Nm@ 2000rpm    5.0   \n",
       "1  Second Owner  1498 CC  100030.0502       250Nm@ 1500-2500rpm    5.0   \n",
       "2   Third Owner  1497 CC    7080.0000     12.7@ 2,700(kgm@ rpm)    5.0   \n",
       "3   First Owner  1396 CC    9000.0000  22.4 kgm at 1750-2750rpm    5.0   \n",
       "4   First Owner  1298 CC    8080.0200     11.5@ 4,500(kgm@ rpm)    5.0   \n",
       "\n",
       "     Brand                   Model  Mileage Mileage_Unit  \n",
       "0   Maruti         Swift Dzire VDI    23.40         kmpl  \n",
       "1    Skoda  Rapid 1.5 TDI Ambition    21.14         kmpl  \n",
       "2    Honda      City 2017-2020 EXi    17.70         kmpl  \n",
       "3  Hyundai       i20 Sportz Diesel    23.00         kmpl  \n",
       "4   Maruti         Swift VXI BSIII    16.10         kmpl  "
      ]
     },
     "execution_count": 30,
     "metadata": {},
     "output_type": "execute_result"
    }
   ],
   "source": [
    "df.head()"
   ]
  },
  {
   "cell_type": "code",
   "execution_count": 31,
   "id": "dc41d994-1d87-4608-9830-72f4884d3422",
   "metadata": {},
   "outputs": [
    {
     "data": {
      "text/plain": [
       "<bound method Series.unique of 0       1248 CC\n",
       "1       1498 CC\n",
       "2       1497 CC\n",
       "3       1396 CC\n",
       "4       1298 CC\n",
       "         ...   \n",
       "8123    1197 CC\n",
       "8124    1493 CC\n",
       "8125    1248 CC\n",
       "8126    1396 CC\n",
       "8127    1396 CC\n",
       "Name: engine, Length: 8128, dtype: object>"
      ]
     },
     "execution_count": 31,
     "metadata": {},
     "output_type": "execute_result"
    }
   ],
   "source": [
    "df[\"engine\"].unique"
   ]
  },
  {
   "cell_type": "code",
   "execution_count": 32,
   "id": "8fb5fdf3-0fe3-4b90-9104-12370aba55c7",
   "metadata": {},
   "outputs": [],
   "source": [
    "df[\"engine\"] = df[\"engine\"].str.replace(\"CC\",\"\")"
   ]
  },
  {
   "cell_type": "code",
   "execution_count": 33,
   "id": "c775ed10-7dec-4f9f-8687-c6eb06d15499",
   "metadata": {},
   "outputs": [],
   "source": [
    "df[\"engine\"] = df[\"engine\"].astype(float)"
   ]
  },
  {
   "cell_type": "code",
   "execution_count": 34,
   "id": "fa862393-c476-42c2-9935-c9035af29f7f",
   "metadata": {},
   "outputs": [],
   "source": [
    "df[\"engine\"].fillna(df[\"engine\"].mean(),inplace=True)"
   ]
  },
  {
   "cell_type": "code",
   "execution_count": 35,
   "id": "c89cef46-afb3-472f-9039-f98734e4e09b",
   "metadata": {},
   "outputs": [
    {
     "data": {
      "text/html": [
       "<div>\n",
       "<style scoped>\n",
       "    .dataframe tbody tr th:only-of-type {\n",
       "        vertical-align: middle;\n",
       "    }\n",
       "\n",
       "    .dataframe tbody tr th {\n",
       "        vertical-align: top;\n",
       "    }\n",
       "\n",
       "    .dataframe thead th {\n",
       "        text-align: right;\n",
       "    }\n",
       "</style>\n",
       "<table border=\"1\" class=\"dataframe\">\n",
       "  <thead>\n",
       "    <tr style=\"text-align: right;\">\n",
       "      <th></th>\n",
       "      <th>year</th>\n",
       "      <th>selling_price</th>\n",
       "      <th>km_driven</th>\n",
       "      <th>fuel</th>\n",
       "      <th>seller_type</th>\n",
       "      <th>transmission</th>\n",
       "      <th>owner</th>\n",
       "      <th>engine</th>\n",
       "      <th>max_power</th>\n",
       "      <th>torque</th>\n",
       "      <th>seats</th>\n",
       "      <th>Brand</th>\n",
       "      <th>Model</th>\n",
       "      <th>Mileage</th>\n",
       "      <th>Mileage_Unit</th>\n",
       "    </tr>\n",
       "  </thead>\n",
       "  <tbody>\n",
       "    <tr>\n",
       "      <th>0</th>\n",
       "      <td>2014</td>\n",
       "      <td>450000</td>\n",
       "      <td>145500</td>\n",
       "      <td>Diesel</td>\n",
       "      <td>Individual</td>\n",
       "      <td>Manual</td>\n",
       "      <td>First Owner</td>\n",
       "      <td>1248.0</td>\n",
       "      <td>7040.0000</td>\n",
       "      <td>190Nm@ 2000rpm</td>\n",
       "      <td>5.0</td>\n",
       "      <td>Maruti</td>\n",
       "      <td>Swift Dzire VDI</td>\n",
       "      <td>23.40</td>\n",
       "      <td>kmpl</td>\n",
       "    </tr>\n",
       "    <tr>\n",
       "      <th>1</th>\n",
       "      <td>2014</td>\n",
       "      <td>370000</td>\n",
       "      <td>120000</td>\n",
       "      <td>Diesel</td>\n",
       "      <td>Individual</td>\n",
       "      <td>Manual</td>\n",
       "      <td>Second Owner</td>\n",
       "      <td>1498.0</td>\n",
       "      <td>100030.0502</td>\n",
       "      <td>250Nm@ 1500-2500rpm</td>\n",
       "      <td>5.0</td>\n",
       "      <td>Skoda</td>\n",
       "      <td>Rapid 1.5 TDI Ambition</td>\n",
       "      <td>21.14</td>\n",
       "      <td>kmpl</td>\n",
       "    </tr>\n",
       "    <tr>\n",
       "      <th>2</th>\n",
       "      <td>2006</td>\n",
       "      <td>158000</td>\n",
       "      <td>140000</td>\n",
       "      <td>Petrol</td>\n",
       "      <td>Individual</td>\n",
       "      <td>Manual</td>\n",
       "      <td>Third Owner</td>\n",
       "      <td>1497.0</td>\n",
       "      <td>7080.0000</td>\n",
       "      <td>12.7@ 2,700(kgm@ rpm)</td>\n",
       "      <td>5.0</td>\n",
       "      <td>Honda</td>\n",
       "      <td>City 2017-2020 EXi</td>\n",
       "      <td>17.70</td>\n",
       "      <td>kmpl</td>\n",
       "    </tr>\n",
       "    <tr>\n",
       "      <th>3</th>\n",
       "      <td>2010</td>\n",
       "      <td>225000</td>\n",
       "      <td>127000</td>\n",
       "      <td>Diesel</td>\n",
       "      <td>Individual</td>\n",
       "      <td>Manual</td>\n",
       "      <td>First Owner</td>\n",
       "      <td>1396.0</td>\n",
       "      <td>9000.0000</td>\n",
       "      <td>22.4 kgm at 1750-2750rpm</td>\n",
       "      <td>5.0</td>\n",
       "      <td>Hyundai</td>\n",
       "      <td>i20 Sportz Diesel</td>\n",
       "      <td>23.00</td>\n",
       "      <td>kmpl</td>\n",
       "    </tr>\n",
       "    <tr>\n",
       "      <th>4</th>\n",
       "      <td>2007</td>\n",
       "      <td>130000</td>\n",
       "      <td>120000</td>\n",
       "      <td>Petrol</td>\n",
       "      <td>Individual</td>\n",
       "      <td>Manual</td>\n",
       "      <td>First Owner</td>\n",
       "      <td>1298.0</td>\n",
       "      <td>8080.0200</td>\n",
       "      <td>11.5@ 4,500(kgm@ rpm)</td>\n",
       "      <td>5.0</td>\n",
       "      <td>Maruti</td>\n",
       "      <td>Swift VXI BSIII</td>\n",
       "      <td>16.10</td>\n",
       "      <td>kmpl</td>\n",
       "    </tr>\n",
       "  </tbody>\n",
       "</table>\n",
       "</div>"
      ],
      "text/plain": [
       "   year  selling_price  km_driven    fuel seller_type transmission  \\\n",
       "0  2014         450000     145500  Diesel  Individual       Manual   \n",
       "1  2014         370000     120000  Diesel  Individual       Manual   \n",
       "2  2006         158000     140000  Petrol  Individual       Manual   \n",
       "3  2010         225000     127000  Diesel  Individual       Manual   \n",
       "4  2007         130000     120000  Petrol  Individual       Manual   \n",
       "\n",
       "          owner  engine    max_power                    torque  seats  \\\n",
       "0   First Owner  1248.0    7040.0000            190Nm@ 2000rpm    5.0   \n",
       "1  Second Owner  1498.0  100030.0502       250Nm@ 1500-2500rpm    5.0   \n",
       "2   Third Owner  1497.0    7080.0000     12.7@ 2,700(kgm@ rpm)    5.0   \n",
       "3   First Owner  1396.0    9000.0000  22.4 kgm at 1750-2750rpm    5.0   \n",
       "4   First Owner  1298.0    8080.0200     11.5@ 4,500(kgm@ rpm)    5.0   \n",
       "\n",
       "     Brand                   Model  Mileage Mileage_Unit  \n",
       "0   Maruti         Swift Dzire VDI    23.40         kmpl  \n",
       "1    Skoda  Rapid 1.5 TDI Ambition    21.14         kmpl  \n",
       "2    Honda      City 2017-2020 EXi    17.70         kmpl  \n",
       "3  Hyundai       i20 Sportz Diesel    23.00         kmpl  \n",
       "4   Maruti         Swift VXI BSIII    16.10         kmpl  "
      ]
     },
     "execution_count": 35,
     "metadata": {},
     "output_type": "execute_result"
    }
   ],
   "source": [
    "df.head()"
   ]
  },
  {
   "cell_type": "code",
   "execution_count": 36,
   "id": "1727edeb-9685-4add-98bd-1144b4b245cb",
   "metadata": {},
   "outputs": [
    {
     "data": {
      "text/plain": [
       "0                   [190Nm@, 2000rpm]\n",
       "1              [250Nm@, 1500-2500rpm]\n",
       "2           [12.7@, 2,700(kgm@, rpm)]\n",
       "3       [22.4, kgm, at, 1750-2750rpm]\n",
       "4           [11.5@, 4,500(kgm@, rpm)]\n",
       "                    ...              \n",
       "8123              [113.7Nm@, 4000rpm]\n",
       "8124    [24@, 1,900-2,750(kgm@, rpm)]\n",
       "8125                [190Nm@, 2000rpm]\n",
       "8126           [140Nm@, 1800-3000rpm]\n",
       "8127           [140Nm@, 1800-3000rpm]\n",
       "Name: torque, Length: 8128, dtype: object"
      ]
     },
     "execution_count": 36,
     "metadata": {},
     "output_type": "execute_result"
    }
   ],
   "source": [
    "df[\"torque\"].str.split()"
   ]
  },
  {
   "cell_type": "code",
   "execution_count": 37,
   "id": "ae536efd-2ae6-4e4d-a788-31ff331c4111",
   "metadata": {},
   "outputs": [],
   "source": [
    "df[\"torque\"].fillna(df[\"torque\"].mode()[0],inplace=True)"
   ]
  },
  {
   "cell_type": "code",
   "execution_count": 38,
   "id": "39bbe49e-4b05-4748-8a2d-1eb743dc8006",
   "metadata": {},
   "outputs": [],
   "source": [
    "nm = []\n",
    "r = []\n",
    "for i in df[\"torque\"].str.split():\n",
    "    nm.append(i[0])\n",
    "    r.append(\" \".join(i[1:]))"
   ]
  },
  {
   "cell_type": "code",
   "execution_count": 39,
   "id": "231658a6-fb35-49be-8b01-b6b95e577609",
   "metadata": {},
   "outputs": [],
   "source": [
    "df[\"nm\"] = nm\n",
    "df[\"rpm\"] = r"
   ]
  },
  {
   "cell_type": "code",
   "execution_count": 40,
   "id": "64583427-8068-4ce5-b591-19a3442e1dfc",
   "metadata": {},
   "outputs": [
    {
     "data": {
      "text/html": [
       "<div>\n",
       "<style scoped>\n",
       "    .dataframe tbody tr th:only-of-type {\n",
       "        vertical-align: middle;\n",
       "    }\n",
       "\n",
       "    .dataframe tbody tr th {\n",
       "        vertical-align: top;\n",
       "    }\n",
       "\n",
       "    .dataframe thead th {\n",
       "        text-align: right;\n",
       "    }\n",
       "</style>\n",
       "<table border=\"1\" class=\"dataframe\">\n",
       "  <thead>\n",
       "    <tr style=\"text-align: right;\">\n",
       "      <th></th>\n",
       "      <th>year</th>\n",
       "      <th>selling_price</th>\n",
       "      <th>km_driven</th>\n",
       "      <th>fuel</th>\n",
       "      <th>seller_type</th>\n",
       "      <th>transmission</th>\n",
       "      <th>owner</th>\n",
       "      <th>engine</th>\n",
       "      <th>max_power</th>\n",
       "      <th>torque</th>\n",
       "      <th>seats</th>\n",
       "      <th>Brand</th>\n",
       "      <th>Model</th>\n",
       "      <th>Mileage</th>\n",
       "      <th>Mileage_Unit</th>\n",
       "      <th>nm</th>\n",
       "      <th>rpm</th>\n",
       "    </tr>\n",
       "  </thead>\n",
       "  <tbody>\n",
       "    <tr>\n",
       "      <th>0</th>\n",
       "      <td>2014</td>\n",
       "      <td>450000</td>\n",
       "      <td>145500</td>\n",
       "      <td>Diesel</td>\n",
       "      <td>Individual</td>\n",
       "      <td>Manual</td>\n",
       "      <td>First Owner</td>\n",
       "      <td>1248.0</td>\n",
       "      <td>7040.0000</td>\n",
       "      <td>190Nm@ 2000rpm</td>\n",
       "      <td>5.0</td>\n",
       "      <td>Maruti</td>\n",
       "      <td>Swift Dzire VDI</td>\n",
       "      <td>23.40</td>\n",
       "      <td>kmpl</td>\n",
       "      <td>190Nm@</td>\n",
       "      <td>2000rpm</td>\n",
       "    </tr>\n",
       "    <tr>\n",
       "      <th>1</th>\n",
       "      <td>2014</td>\n",
       "      <td>370000</td>\n",
       "      <td>120000</td>\n",
       "      <td>Diesel</td>\n",
       "      <td>Individual</td>\n",
       "      <td>Manual</td>\n",
       "      <td>Second Owner</td>\n",
       "      <td>1498.0</td>\n",
       "      <td>100030.0502</td>\n",
       "      <td>250Nm@ 1500-2500rpm</td>\n",
       "      <td>5.0</td>\n",
       "      <td>Skoda</td>\n",
       "      <td>Rapid 1.5 TDI Ambition</td>\n",
       "      <td>21.14</td>\n",
       "      <td>kmpl</td>\n",
       "      <td>250Nm@</td>\n",
       "      <td>1500-2500rpm</td>\n",
       "    </tr>\n",
       "    <tr>\n",
       "      <th>2</th>\n",
       "      <td>2006</td>\n",
       "      <td>158000</td>\n",
       "      <td>140000</td>\n",
       "      <td>Petrol</td>\n",
       "      <td>Individual</td>\n",
       "      <td>Manual</td>\n",
       "      <td>Third Owner</td>\n",
       "      <td>1497.0</td>\n",
       "      <td>7080.0000</td>\n",
       "      <td>12.7@ 2,700(kgm@ rpm)</td>\n",
       "      <td>5.0</td>\n",
       "      <td>Honda</td>\n",
       "      <td>City 2017-2020 EXi</td>\n",
       "      <td>17.70</td>\n",
       "      <td>kmpl</td>\n",
       "      <td>12.7@</td>\n",
       "      <td>2,700(kgm@ rpm)</td>\n",
       "    </tr>\n",
       "    <tr>\n",
       "      <th>3</th>\n",
       "      <td>2010</td>\n",
       "      <td>225000</td>\n",
       "      <td>127000</td>\n",
       "      <td>Diesel</td>\n",
       "      <td>Individual</td>\n",
       "      <td>Manual</td>\n",
       "      <td>First Owner</td>\n",
       "      <td>1396.0</td>\n",
       "      <td>9000.0000</td>\n",
       "      <td>22.4 kgm at 1750-2750rpm</td>\n",
       "      <td>5.0</td>\n",
       "      <td>Hyundai</td>\n",
       "      <td>i20 Sportz Diesel</td>\n",
       "      <td>23.00</td>\n",
       "      <td>kmpl</td>\n",
       "      <td>22.4</td>\n",
       "      <td>kgm at 1750-2750rpm</td>\n",
       "    </tr>\n",
       "    <tr>\n",
       "      <th>4</th>\n",
       "      <td>2007</td>\n",
       "      <td>130000</td>\n",
       "      <td>120000</td>\n",
       "      <td>Petrol</td>\n",
       "      <td>Individual</td>\n",
       "      <td>Manual</td>\n",
       "      <td>First Owner</td>\n",
       "      <td>1298.0</td>\n",
       "      <td>8080.0200</td>\n",
       "      <td>11.5@ 4,500(kgm@ rpm)</td>\n",
       "      <td>5.0</td>\n",
       "      <td>Maruti</td>\n",
       "      <td>Swift VXI BSIII</td>\n",
       "      <td>16.10</td>\n",
       "      <td>kmpl</td>\n",
       "      <td>11.5@</td>\n",
       "      <td>4,500(kgm@ rpm)</td>\n",
       "    </tr>\n",
       "  </tbody>\n",
       "</table>\n",
       "</div>"
      ],
      "text/plain": [
       "   year  selling_price  km_driven    fuel seller_type transmission  \\\n",
       "0  2014         450000     145500  Diesel  Individual       Manual   \n",
       "1  2014         370000     120000  Diesel  Individual       Manual   \n",
       "2  2006         158000     140000  Petrol  Individual       Manual   \n",
       "3  2010         225000     127000  Diesel  Individual       Manual   \n",
       "4  2007         130000     120000  Petrol  Individual       Manual   \n",
       "\n",
       "          owner  engine    max_power                    torque  seats  \\\n",
       "0   First Owner  1248.0    7040.0000            190Nm@ 2000rpm    5.0   \n",
       "1  Second Owner  1498.0  100030.0502       250Nm@ 1500-2500rpm    5.0   \n",
       "2   Third Owner  1497.0    7080.0000     12.7@ 2,700(kgm@ rpm)    5.0   \n",
       "3   First Owner  1396.0    9000.0000  22.4 kgm at 1750-2750rpm    5.0   \n",
       "4   First Owner  1298.0    8080.0200     11.5@ 4,500(kgm@ rpm)    5.0   \n",
       "\n",
       "     Brand                   Model  Mileage Mileage_Unit      nm  \\\n",
       "0   Maruti         Swift Dzire VDI    23.40         kmpl  190Nm@   \n",
       "1    Skoda  Rapid 1.5 TDI Ambition    21.14         kmpl  250Nm@   \n",
       "2    Honda      City 2017-2020 EXi    17.70         kmpl   12.7@   \n",
       "3  Hyundai       i20 Sportz Diesel    23.00         kmpl    22.4   \n",
       "4   Maruti         Swift VXI BSIII    16.10         kmpl   11.5@   \n",
       "\n",
       "                   rpm  \n",
       "0              2000rpm  \n",
       "1         1500-2500rpm  \n",
       "2      2,700(kgm@ rpm)  \n",
       "3  kgm at 1750-2750rpm  \n",
       "4      4,500(kgm@ rpm)  "
      ]
     },
     "execution_count": 40,
     "metadata": {},
     "output_type": "execute_result"
    }
   ],
   "source": [
    "df.head()"
   ]
  },
  {
   "cell_type": "markdown",
   "id": "8f662733-c23d-440c-b645-be7713a2bc25",
   "metadata": {},
   "source": [
    "# Regular Expression\n",
    "---------------------------------------"
   ]
  },
  {
   "cell_type": "code",
   "execution_count": 41,
   "id": "6b088899-75ea-4717-ba24-b82b93cd7893",
   "metadata": {},
   "outputs": [],
   "source": [
    "x = []\n",
    "for i in df[\"nm\"]:\n",
    "    y = re.sub(\"[^0-9.]\",\"\",i)\n",
    "    x.append(y)"
   ]
  },
  {
   "cell_type": "code",
   "execution_count": 42,
   "id": "da5f710c-767d-4bb9-b9d8-cae523bd32b2",
   "metadata": {},
   "outputs": [],
   "source": [
    "df[\"nm\"] = x"
   ]
  },
  {
   "cell_type": "code",
   "execution_count": 43,
   "id": "181d7ce8-48f0-41d0-b36f-cd6783295be5",
   "metadata": {},
   "outputs": [],
   "source": [
    "a = []\n",
    "for i in df[\"rpm\"]:\n",
    "    b = re.sub(\"[^0-9-]\",\"\",i)\n",
    "    a.append(b)"
   ]
  },
  {
   "cell_type": "code",
   "execution_count": 44,
   "id": "1670aea9-1a20-4d59-b9bf-ac8e62058736",
   "metadata": {},
   "outputs": [],
   "source": [
    "df[\"rpm\"] = a"
   ]
  },
  {
   "cell_type": "code",
   "execution_count": 45,
   "id": "b4c2bd17-9eae-4675-9750-1667410b4d5d",
   "metadata": {},
   "outputs": [],
   "source": [
    "df.drop(columns=[\"torque\"],inplace=True)"
   ]
  },
  {
   "cell_type": "code",
   "execution_count": 46,
   "id": "31f09031-f012-4849-a6df-53dfacdfa04f",
   "metadata": {},
   "outputs": [],
   "source": [
    "df[\"nm\"] = df[\"nm\"].astype(float)"
   ]
  },
  {
   "cell_type": "code",
   "execution_count": 47,
   "id": "79c7519e-1722-4dd6-bd26-2ccba69fd594",
   "metadata": {},
   "outputs": [],
   "source": [
    "x = []\n",
    "for i in df[\"rpm\"]:\n",
    "    y = i.split(\"-\")\n",
    "    if y[-1]==\"\":\n",
    "        x.append(0)\n",
    "    else:\n",
    "        x.append(float(y[-1]))"
   ]
  },
  {
   "cell_type": "code",
   "execution_count": 48,
   "id": "e02004f4-1cd2-4f91-9423-9f554f3561b1",
   "metadata": {},
   "outputs": [],
   "source": [
    "df[\"rpm\"] = x"
   ]
  },
  {
   "cell_type": "code",
   "execution_count": 49,
   "id": "fcc8554e-e300-4692-81cc-0b7fc1c449f7",
   "metadata": {},
   "outputs": [
    {
     "data": {
      "text/html": [
       "<div>\n",
       "<style scoped>\n",
       "    .dataframe tbody tr th:only-of-type {\n",
       "        vertical-align: middle;\n",
       "    }\n",
       "\n",
       "    .dataframe tbody tr th {\n",
       "        vertical-align: top;\n",
       "    }\n",
       "\n",
       "    .dataframe thead th {\n",
       "        text-align: right;\n",
       "    }\n",
       "</style>\n",
       "<table border=\"1\" class=\"dataframe\">\n",
       "  <thead>\n",
       "    <tr style=\"text-align: right;\">\n",
       "      <th></th>\n",
       "      <th>year</th>\n",
       "      <th>selling_price</th>\n",
       "      <th>km_driven</th>\n",
       "      <th>fuel</th>\n",
       "      <th>seller_type</th>\n",
       "      <th>transmission</th>\n",
       "      <th>owner</th>\n",
       "      <th>engine</th>\n",
       "      <th>max_power</th>\n",
       "      <th>seats</th>\n",
       "      <th>Brand</th>\n",
       "      <th>Model</th>\n",
       "      <th>Mileage</th>\n",
       "      <th>Mileage_Unit</th>\n",
       "      <th>nm</th>\n",
       "      <th>rpm</th>\n",
       "    </tr>\n",
       "  </thead>\n",
       "  <tbody>\n",
       "    <tr>\n",
       "      <th>0</th>\n",
       "      <td>2014</td>\n",
       "      <td>450000</td>\n",
       "      <td>145500</td>\n",
       "      <td>Diesel</td>\n",
       "      <td>Individual</td>\n",
       "      <td>Manual</td>\n",
       "      <td>First Owner</td>\n",
       "      <td>1248.0</td>\n",
       "      <td>7040.0000</td>\n",
       "      <td>5.0</td>\n",
       "      <td>Maruti</td>\n",
       "      <td>Swift Dzire VDI</td>\n",
       "      <td>23.40</td>\n",
       "      <td>kmpl</td>\n",
       "      <td>190.0</td>\n",
       "      <td>2000.0</td>\n",
       "    </tr>\n",
       "    <tr>\n",
       "      <th>1</th>\n",
       "      <td>2014</td>\n",
       "      <td>370000</td>\n",
       "      <td>120000</td>\n",
       "      <td>Diesel</td>\n",
       "      <td>Individual</td>\n",
       "      <td>Manual</td>\n",
       "      <td>Second Owner</td>\n",
       "      <td>1498.0</td>\n",
       "      <td>100030.0502</td>\n",
       "      <td>5.0</td>\n",
       "      <td>Skoda</td>\n",
       "      <td>Rapid 1.5 TDI Ambition</td>\n",
       "      <td>21.14</td>\n",
       "      <td>kmpl</td>\n",
       "      <td>250.0</td>\n",
       "      <td>2500.0</td>\n",
       "    </tr>\n",
       "    <tr>\n",
       "      <th>2</th>\n",
       "      <td>2006</td>\n",
       "      <td>158000</td>\n",
       "      <td>140000</td>\n",
       "      <td>Petrol</td>\n",
       "      <td>Individual</td>\n",
       "      <td>Manual</td>\n",
       "      <td>Third Owner</td>\n",
       "      <td>1497.0</td>\n",
       "      <td>7080.0000</td>\n",
       "      <td>5.0</td>\n",
       "      <td>Honda</td>\n",
       "      <td>City 2017-2020 EXi</td>\n",
       "      <td>17.70</td>\n",
       "      <td>kmpl</td>\n",
       "      <td>12.7</td>\n",
       "      <td>2700.0</td>\n",
       "    </tr>\n",
       "    <tr>\n",
       "      <th>3</th>\n",
       "      <td>2010</td>\n",
       "      <td>225000</td>\n",
       "      <td>127000</td>\n",
       "      <td>Diesel</td>\n",
       "      <td>Individual</td>\n",
       "      <td>Manual</td>\n",
       "      <td>First Owner</td>\n",
       "      <td>1396.0</td>\n",
       "      <td>9000.0000</td>\n",
       "      <td>5.0</td>\n",
       "      <td>Hyundai</td>\n",
       "      <td>i20 Sportz Diesel</td>\n",
       "      <td>23.00</td>\n",
       "      <td>kmpl</td>\n",
       "      <td>22.4</td>\n",
       "      <td>2750.0</td>\n",
       "    </tr>\n",
       "    <tr>\n",
       "      <th>4</th>\n",
       "      <td>2007</td>\n",
       "      <td>130000</td>\n",
       "      <td>120000</td>\n",
       "      <td>Petrol</td>\n",
       "      <td>Individual</td>\n",
       "      <td>Manual</td>\n",
       "      <td>First Owner</td>\n",
       "      <td>1298.0</td>\n",
       "      <td>8080.0200</td>\n",
       "      <td>5.0</td>\n",
       "      <td>Maruti</td>\n",
       "      <td>Swift VXI BSIII</td>\n",
       "      <td>16.10</td>\n",
       "      <td>kmpl</td>\n",
       "      <td>11.5</td>\n",
       "      <td>4500.0</td>\n",
       "    </tr>\n",
       "  </tbody>\n",
       "</table>\n",
       "</div>"
      ],
      "text/plain": [
       "   year  selling_price  km_driven    fuel seller_type transmission  \\\n",
       "0  2014         450000     145500  Diesel  Individual       Manual   \n",
       "1  2014         370000     120000  Diesel  Individual       Manual   \n",
       "2  2006         158000     140000  Petrol  Individual       Manual   \n",
       "3  2010         225000     127000  Diesel  Individual       Manual   \n",
       "4  2007         130000     120000  Petrol  Individual       Manual   \n",
       "\n",
       "          owner  engine    max_power  seats    Brand                   Model  \\\n",
       "0   First Owner  1248.0    7040.0000    5.0   Maruti         Swift Dzire VDI   \n",
       "1  Second Owner  1498.0  100030.0502    5.0    Skoda  Rapid 1.5 TDI Ambition   \n",
       "2   Third Owner  1497.0    7080.0000    5.0    Honda      City 2017-2020 EXi   \n",
       "3   First Owner  1396.0    9000.0000    5.0  Hyundai       i20 Sportz Diesel   \n",
       "4   First Owner  1298.0    8080.0200    5.0   Maruti         Swift VXI BSIII   \n",
       "\n",
       "   Mileage Mileage_Unit     nm     rpm  \n",
       "0    23.40         kmpl  190.0  2000.0  \n",
       "1    21.14         kmpl  250.0  2500.0  \n",
       "2    17.70         kmpl   12.7  2700.0  \n",
       "3    23.00         kmpl   22.4  2750.0  \n",
       "4    16.10         kmpl   11.5  4500.0  "
      ]
     },
     "execution_count": 49,
     "metadata": {},
     "output_type": "execute_result"
    }
   ],
   "source": [
    "df.head()"
   ]
  },
  {
   "cell_type": "code",
   "execution_count": 50,
   "id": "7a69d0b4-b275-4c63-bed1-ba904509557a",
   "metadata": {},
   "outputs": [
    {
     "data": {
      "text/plain": [
       "year               0\n",
       "selling_price      0\n",
       "km_driven          0\n",
       "fuel               0\n",
       "seller_type        0\n",
       "transmission       0\n",
       "owner              0\n",
       "engine             0\n",
       "max_power          0\n",
       "seats            221\n",
       "Brand              0\n",
       "Model              0\n",
       "Mileage            0\n",
       "Mileage_Unit       0\n",
       "nm                 0\n",
       "rpm                0\n",
       "dtype: int64"
      ]
     },
     "execution_count": 50,
     "metadata": {},
     "output_type": "execute_result"
    }
   ],
   "source": [
    "df.isna().sum()"
   ]
  },
  {
   "cell_type": "code",
   "execution_count": 51,
   "id": "dd278222-2b04-4da9-acf3-dd4bf918332b",
   "metadata": {},
   "outputs": [],
   "source": [
    "df[\"seats\"].fillna(df[\"seats\"].mean(),inplace=True)"
   ]
  },
  {
   "cell_type": "code",
   "execution_count": 52,
   "id": "fca946db-8ab3-4d7a-8282-2e25775017a2",
   "metadata": {},
   "outputs": [
    {
     "data": {
      "text/plain": [
       "year             0\n",
       "selling_price    0\n",
       "km_driven        0\n",
       "fuel             0\n",
       "seller_type      0\n",
       "transmission     0\n",
       "owner            0\n",
       "engine           0\n",
       "max_power        0\n",
       "seats            0\n",
       "Brand            0\n",
       "Model            0\n",
       "Mileage          0\n",
       "Mileage_Unit     0\n",
       "nm               0\n",
       "rpm              0\n",
       "dtype: int64"
      ]
     },
     "execution_count": 52,
     "metadata": {},
     "output_type": "execute_result"
    }
   ],
   "source": [
    "df.isna().sum()"
   ]
  },
  {
   "cell_type": "code",
   "execution_count": 53,
   "id": "778c2c08-f8b7-49ac-96a3-64ecb528fdf4",
   "metadata": {},
   "outputs": [
    {
     "data": {
      "text/plain": [
       "year               int64\n",
       "selling_price      int64\n",
       "km_driven          int64\n",
       "fuel              object\n",
       "seller_type       object\n",
       "transmission      object\n",
       "owner             object\n",
       "engine           float64\n",
       "max_power        float64\n",
       "seats            float64\n",
       "Brand             object\n",
       "Model             object\n",
       "Mileage          float64\n",
       "Mileage_Unit      object\n",
       "nm               float64\n",
       "rpm              float64\n",
       "dtype: object"
      ]
     },
     "execution_count": 53,
     "metadata": {},
     "output_type": "execute_result"
    }
   ],
   "source": [
    "df.dtypes"
   ]
  },
  {
   "cell_type": "markdown",
   "id": "5fd3ad41-45fe-4e6d-a79a-1ac4ebb392c3",
   "metadata": {},
   "source": [
    "# EDA = Exploratory Data Analysis\n",
    "--------------------------------------------"
   ]
  },
  {
   "cell_type": "code",
   "execution_count": 54,
   "id": "506fda25-18e2-402a-b713-94ba58be1b46",
   "metadata": {},
   "outputs": [
    {
     "data": {
      "image/png": "[encoded data removed]",
      "text/plain": [
       "<Figure size 1500x500 with 1 Axes>"
      ]
     },
     "metadata": {},
     "output_type": "display_data"
    }
   ],
   "source": [
    "plt.figure(figsize=(15,5))\n",
    "sns.barplot(data = df,x = \"year\",y = \"selling_price\",estimator=\"sum\",palette=\"rocket\")\n",
    "plt.title(\"Sum of selling price by year\",fontweight=\"bold\")\n",
    "plt.xticks(rotation = 90)\n",
    "plt.show()"
   ]
  },
  {
   "cell_type": "markdown",
   "id": "4a168e00-d1c0-49e6-97c3-09de20a005d7",
   "metadata": {},
   "source": [
    "## Insights from the Bar Chart:\n",
    "-------------------------------------------\n",
    "- Increasing Trend: The bar chart clearly shows a growing trend in the sum of selling prices over the years. The selling price has been significantly     increasing over the past two decades.\n",
    "- Sharp Increase After 2010: The trend becomes more pronounced after the year 2010, indicating a potentially accelerated growth in the market.\n",
    "- Highest Selling Price in 2020: The year 2020 saw the highest sum of selling price, potentially indicating peak market activity or a significant surge   in the value of goods sold."
   ]
  },
  {
   "cell_type": "code",
   "execution_count": 55,
   "id": "b6ea6a6f-cecf-4c2b-95ab-cddcc2c79d4a",
   "metadata": {},
   "outputs": [],
   "source": [
    "vl = df[\"Brand\"].value_counts().reset_index()"
   ]
  },
  {
   "cell_type": "code",
   "execution_count": 56,
   "id": "c578db9b-afd4-44a4-b15c-f15bdb896d82",
   "metadata": {},
   "outputs": [
    {
     "data": {
      "image/png": "[encoded data removed]",
      "text/plain": [
       "<Figure size 1500x500 with 1 Axes>"
      ]
     },
     "metadata": {},
     "output_type": "display_data"
    }
   ],
   "source": [
    "plt.figure(figsize=(15,5))\n",
    "sns.barplot(data=vl,x=\"Brand\",y=\"count\",palette=\"rocket\")\n",
    "plt.title(\"Total Number of cars by brand\",fontweight=\"bold\")\n",
    "plt.xticks(rotation=90)\n",
    "plt.show()"
   ]
  },
  {
   "cell_type": "markdown",
   "id": "4dc1e051-700d-4ff8-ae33-5df4036c137a",
   "metadata": {},
   "source": [
    "## Insights from the Bar Chart:\n",
    "-------------------------------------------\n",
    "- Dominance of Maruti:\n",
    "Maruti leads significantly with the highest count, surpassing 2500 units. This indicates a strong market presence and popularity of Maruti vehicles.\n",
    "- Close Competition:\n",
    "Hyundai follows as the second largest brand, but with a notable gap from Maruti. This suggests a healthy competition among the top brands.\n",
    "Other Key Players:\n",
    "\n",
    "- Brands like Mahindra, Tata, and Toyota also show substantial counts, suggesting a strong market share in the automotive sector.\n",
    "- Honda, Ford, Chevrolet, and Renault appear next, with counts indicating moderate popularity."
   ]
  },
  {
   "cell_type": "code",
   "execution_count": 57,
   "id": "c4e1a36f-35ec-45fc-a282-4967cc072847",
   "metadata": {},
   "outputs": [],
   "source": [
    "fl = df.groupby(\"fuel\")[\"selling_price\"].mean().reset_index()"
   ]
  },
  {
   "cell_type": "code",
   "execution_count": 58,
   "id": "71d595fc-8ffd-48df-adce-3f82b09c06ff",
   "metadata": {},
   "outputs": [],
   "source": [
    "tr = df.groupby(\"transmission\")[\"selling_price\"].mean().reset_index()"
   ]
  },
  {
   "cell_type": "code",
   "execution_count": 59,
   "id": "c4b90881-499a-4ca1-9b3f-78728150893c",
   "metadata": {},
   "outputs": [
    {
     "data": {
      "image/png": "[encoded data removed]",
      "text/plain": [
       "<Figure size 1700x500 with 2 Axes>"
      ]
     },
     "metadata": {},
     "output_type": "display_data"
    }
   ],
   "source": [
    "plt.figure(figsize=(17,5))\n",
    "\n",
    "plt.subplot(1,2,1)\n",
    "plt.pie(fl[\"selling_price\"],labels=fl[\"fuel\"],autopct=\"%0.2f%%\")\n",
    "plt.title(\"Distribution of fuel type selling price\",fontweight=\"bold\")\n",
    "\n",
    "plt.subplot(1,2,2)\n",
    "plt.pie(tr[\"selling_price\"],labels=tr[\"transmission\"],autopct=\"%0.2f%%\")\n",
    "plt.title(\"Distribution of transmission by selling price\",fontweight=\"bold\")\n",
    "\n",
    "plt.show()"
   ]
  },
  {
   "cell_type": "markdown",
   "id": "142b176e-0c02-4789-a71f-3fd44ff4d04c",
   "metadata": {},
   "source": [
    "## Insights from the Pie Charts:\n",
    "----------------------------------------------\n",
    "- Trend Towards Diesel and Automatic: There is a significant preference for diesel fuel combined with automatic transmissions, indicating consumer prioritization of performance and convenience.\r",
    "- \n",
    "Potential for Growth in Alternative Fuels: The lower percentages of CNG and LPG suggest opportunities for developers and manufacturers to promote alternative fuel vehicles\n",
    "- \r\n",
    "Market Dynamics: The high preference for automatic transmission indicates a potential shift in manufacturing focus to cater to consumer demands, prioritizing automatics over manual options."
   ]
  },
  {
   "cell_type": "code",
   "execution_count": 60,
   "id": "bd936af8-92a2-4445-b867-81fd508fba88",
   "metadata": {},
   "outputs": [
    {
     "data": {
      "image/png": "[encoded data removed]",
      "text/plain": [
       "<Figure size 1400x500 with 1 Axes>"
      ]
     },
     "metadata": {},
     "output_type": "display_data"
    }
   ],
   "source": [
    "plt.figure(figsize=(14,5))\n",
    "sns.barplot(data=df, x=\"owner\", y=\"selling_price\",hue=\"fuel\")\n",
    "plt.title(\"Owner Ship by selling price and fuel\",fontweight=\"bold\")\n",
    "plt.show()"
   ]
  },
  {
   "cell_type": "markdown",
   "id": "cc2ad976-2711-4da2-816c-2cf7535a91af",
   "metadata": {},
   "source": [
    "## Insights from the Bar Chart:\n",
    "------------------------------------------------------\n",
    "- Market Implications:\n",
    "There is a clear differentiation in selling prices based on fuel type and ownership status, which suggests preferences in the used car market.\n",
    "- Investment Considerations:\n",
    "Buyers may want to focus on Diesel cars from first owners for better resale value. The significantly higher price for Test Drive Cars indicates a market preference for almost new vehicles.\n",
    "- The Test Drive Car category shows an extremely high selling price, indicating that these vehicles are likely new or nearly new and might be priced much higher than used cars."
   ]
  },
  {
   "cell_type": "code",
   "execution_count": 61,
   "id": "ecd43527-6c1c-40de-af7b-6d5a629825c8",
   "metadata": {},
   "outputs": [
    {
     "data": {
      "image/png": "[encoded data removed]",
      "text/plain": [
       "<Figure size 1500x500 with 1 Axes>"
      ]
     },
     "metadata": {},
     "output_type": "display_data"
    }
   ],
   "source": [
    "plt.figure(figsize=(15,5))\n",
    "sns.histplot(data=df,x=\"Mileage\",kde=True)\n",
    "plt.grid()\n",
    "plt.title(\"Count of Mileage\",fontweight=\"bold\")\n",
    "plt.show()"
   ]
  },
  {
   "cell_type": "markdown",
   "id": "720f3318-2f53-4ad3-8c73-c8aa7ba28ab3",
   "metadata": {},
   "source": [
    "## Insights from the Histogram Chart:\n",
    "--------------------------------\n",
    "- Mileage values range from 0 to 40 miles, but most occurrences are clustered between 10 to 30 miles.\r",
    "- \n",
    "Very few instances fall below 5 miles or exceed 35 miles.\n",
    "- The data suggests that most occurrences of mileage fall within a moderate range, significantly clustered around the 20-mile mark.\n",
    "- This histogram could be useful for understanding driving patterns or for assessing vehicle usage within a certain limit, indicating a preference for mileage around that peak."
   ]
  },
  {
   "cell_type": "code",
   "execution_count": 62,
   "id": "76dd41e4-f5d9-42ce-bd37-f7fbe31aec64",
   "metadata": {},
   "outputs": [],
   "source": [
    "pr = df.groupby(\"Brand\")[\"selling_price\"].sum().reset_index()"
   ]
  },
  {
   "cell_type": "code",
   "execution_count": 63,
   "id": "f288fda8-d1f4-4a95-9b5e-1fd239ab901f",
   "metadata": {},
   "outputs": [
    {
     "data": {
      "image/png": "[encoded data removed]",
      "text/plain": [
       "<Figure size 1500x500 with 1 Axes>"
      ]
     },
     "metadata": {},
     "output_type": "display_data"
    }
   ],
   "source": [
    "plt.figure(figsize=(15,5))\n",
    "sns.barplot(data=pr,x=\"Brand\",y=\"selling_price\",palette=\"rocket\")\n",
    "plt.title(\"Total selling price by brand\",fontweight=\"bold\")\n",
    "plt.xticks(rotation=90)\n",
    "plt.show()"
   ]
  },
  {
   "cell_type": "markdown",
   "id": "5e82ba9b-cfc7-44a2-b92c-e282cf8666cd",
   "metadata": {},
   "source": [
    "## Insights from the Bar Chart.\n",
    "------------------------------------------------------------\n",
    "- \r\n",
    "Maruti stands out as the brand with the highest total number of cars sold, significantly surpassing other brands- .\r\n",
    "Hyundai and Mahindra follow, showing a strong presence in the market, but with lower numbers compared to Marue- s:\r\n",
    "\r\n",
    "Brands like Honda, Ford, and Toyota appear to have a moderate range of sales, indicating a stable yet not dominating market pres- ands:\r\n",
    "\r\n",
    "Several brands like Isuzu, Peugeot, and Datsun show relatively low sales figures. These might be niche brands or could have less market pene- Segment:\r\n",
    "\r\n",
    "Brands like BMW and Mercedes-Benz display some sales but are considerably lower than the top-selling brands. This suggests they cater to a different market segment primarily focused on luxury.."
   ]
  },
  {
   "cell_type": "markdown",
   "id": "f93bbda7-6de8-41a0-89ae-0a9c658ed7b3",
   "metadata": {},
   "source": []
  },
  {
   "cell_type": "code",
   "execution_count": 64,
   "id": "d625b6ce-672a-41bc-8784-b3dc0b51fdae",
   "metadata": {},
   "outputs": [
    {
     "data": {
      "text/html": [
       "<div>\n",
       "<style scoped>\n",
       "    .dataframe tbody tr th:only-of-type {\n",
       "        vertical-align: middle;\n",
       "    }\n",
       "\n",
       "    .dataframe tbody tr th {\n",
       "        vertical-align: top;\n",
       "    }\n",
       "\n",
       "    .dataframe thead th {\n",
       "        text-align: right;\n",
       "    }\n",
       "</style>\n",
       "<table border=\"1\" class=\"dataframe\">\n",
       "  <thead>\n",
       "    <tr style=\"text-align: right;\">\n",
       "      <th></th>\n",
       "      <th>year</th>\n",
       "      <th>selling_price</th>\n",
       "      <th>km_driven</th>\n",
       "      <th>fuel</th>\n",
       "      <th>seller_type</th>\n",
       "      <th>transmission</th>\n",
       "      <th>owner</th>\n",
       "      <th>engine</th>\n",
       "      <th>max_power</th>\n",
       "      <th>seats</th>\n",
       "      <th>Brand</th>\n",
       "      <th>Model</th>\n",
       "      <th>Mileage</th>\n",
       "      <th>Mileage_Unit</th>\n",
       "      <th>nm</th>\n",
       "      <th>rpm</th>\n",
       "    </tr>\n",
       "  </thead>\n",
       "  <tbody>\n",
       "    <tr>\n",
       "      <th>0</th>\n",
       "      <td>2014</td>\n",
       "      <td>450000</td>\n",
       "      <td>145500</td>\n",
       "      <td>Diesel</td>\n",
       "      <td>Individual</td>\n",
       "      <td>Manual</td>\n",
       "      <td>First Owner</td>\n",
       "      <td>1248.0</td>\n",
       "      <td>7040.0000</td>\n",
       "      <td>5.0</td>\n",
       "      <td>Maruti</td>\n",
       "      <td>Swift Dzire VDI</td>\n",
       "      <td>23.40</td>\n",
       "      <td>kmpl</td>\n",
       "      <td>190.0</td>\n",
       "      <td>2000.0</td>\n",
       "    </tr>\n",
       "    <tr>\n",
       "      <th>1</th>\n",
       "      <td>2014</td>\n",
       "      <td>370000</td>\n",
       "      <td>120000</td>\n",
       "      <td>Diesel</td>\n",
       "      <td>Individual</td>\n",
       "      <td>Manual</td>\n",
       "      <td>Second Owner</td>\n",
       "      <td>1498.0</td>\n",
       "      <td>100030.0502</td>\n",
       "      <td>5.0</td>\n",
       "      <td>Skoda</td>\n",
       "      <td>Rapid 1.5 TDI Ambition</td>\n",
       "      <td>21.14</td>\n",
       "      <td>kmpl</td>\n",
       "      <td>250.0</td>\n",
       "      <td>2500.0</td>\n",
       "    </tr>\n",
       "    <tr>\n",
       "      <th>2</th>\n",
       "      <td>2006</td>\n",
       "      <td>158000</td>\n",
       "      <td>140000</td>\n",
       "      <td>Petrol</td>\n",
       "      <td>Individual</td>\n",
       "      <td>Manual</td>\n",
       "      <td>Third Owner</td>\n",
       "      <td>1497.0</td>\n",
       "      <td>7080.0000</td>\n",
       "      <td>5.0</td>\n",
       "      <td>Honda</td>\n",
       "      <td>City 2017-2020 EXi</td>\n",
       "      <td>17.70</td>\n",
       "      <td>kmpl</td>\n",
       "      <td>12.7</td>\n",
       "      <td>2700.0</td>\n",
       "    </tr>\n",
       "    <tr>\n",
       "      <th>3</th>\n",
       "      <td>2010</td>\n",
       "      <td>225000</td>\n",
       "      <td>127000</td>\n",
       "      <td>Diesel</td>\n",
       "      <td>Individual</td>\n",
       "      <td>Manual</td>\n",
       "      <td>First Owner</td>\n",
       "      <td>1396.0</td>\n",
       "      <td>9000.0000</td>\n",
       "      <td>5.0</td>\n",
       "      <td>Hyundai</td>\n",
       "      <td>i20 Sportz Diesel</td>\n",
       "      <td>23.00</td>\n",
       "      <td>kmpl</td>\n",
       "      <td>22.4</td>\n",
       "      <td>2750.0</td>\n",
       "    </tr>\n",
       "    <tr>\n",
       "      <th>4</th>\n",
       "      <td>2007</td>\n",
       "      <td>130000</td>\n",
       "      <td>120000</td>\n",
       "      <td>Petrol</td>\n",
       "      <td>Individual</td>\n",
       "      <td>Manual</td>\n",
       "      <td>First Owner</td>\n",
       "      <td>1298.0</td>\n",
       "      <td>8080.0200</td>\n",
       "      <td>5.0</td>\n",
       "      <td>Maruti</td>\n",
       "      <td>Swift VXI BSIII</td>\n",
       "      <td>16.10</td>\n",
       "      <td>kmpl</td>\n",
       "      <td>11.5</td>\n",
       "      <td>4500.0</td>\n",
       "    </tr>\n",
       "  </tbody>\n",
       "</table>\n",
       "</div>"
      ],
      "text/plain": [
       "   year  selling_price  km_driven    fuel seller_type transmission  \\\n",
       "0  2014         450000     145500  Diesel  Individual       Manual   \n",
       "1  2014         370000     120000  Diesel  Individual       Manual   \n",
       "2  2006         158000     140000  Petrol  Individual       Manual   \n",
       "3  2010         225000     127000  Diesel  Individual       Manual   \n",
       "4  2007         130000     120000  Petrol  Individual       Manual   \n",
       "\n",
       "          owner  engine    max_power  seats    Brand                   Model  \\\n",
       "0   First Owner  1248.0    7040.0000    5.0   Maruti         Swift Dzire VDI   \n",
       "1  Second Owner  1498.0  100030.0502    5.0    Skoda  Rapid 1.5 TDI Ambition   \n",
       "2   Third Owner  1497.0    7080.0000    5.0    Honda      City 2017-2020 EXi   \n",
       "3   First Owner  1396.0    9000.0000    5.0  Hyundai       i20 Sportz Diesel   \n",
       "4   First Owner  1298.0    8080.0200    5.0   Maruti         Swift VXI BSIII   \n",
       "\n",
       "   Mileage Mileage_Unit     nm     rpm  \n",
       "0    23.40         kmpl  190.0  2000.0  \n",
       "1    21.14         kmpl  250.0  2500.0  \n",
       "2    17.70         kmpl   12.7  2700.0  \n",
       "3    23.00         kmpl   22.4  2750.0  \n",
       "4    16.10         kmpl   11.5  4500.0  "
      ]
     },
     "execution_count": 64,
     "metadata": {},
     "output_type": "execute_result"
    }
   ],
   "source": [
    "df.head()"
   ]
  },
  {
   "cell_type": "code",
   "execution_count": 65,
   "id": "400e72d5-304c-42a1-bb82-cb106e4f42b5",
   "metadata": {},
   "outputs": [
    {
     "data": {
      "text/plain": [
       "year               int64\n",
       "selling_price      int64\n",
       "km_driven          int64\n",
       "fuel              object\n",
       "seller_type       object\n",
       "transmission      object\n",
       "owner             object\n",
       "engine           float64\n",
       "max_power        float64\n",
       "seats            float64\n",
       "Brand             object\n",
       "Model             object\n",
       "Mileage          float64\n",
       "Mileage_Unit      object\n",
       "nm               float64\n",
       "rpm              float64\n",
       "dtype: object"
      ]
     },
     "execution_count": 65,
     "metadata": {},
     "output_type": "execute_result"
    }
   ],
   "source": [
    "df.dtypes"
   ]
  },
  {
   "cell_type": "markdown",
   "id": "da01682f-a72b-4498-99f0-4fe820f713f7",
   "metadata": {},
   "source": [
    "# Changing Text to Number\n",
    "-----------------------------------------"
   ]
  },
  {
   "cell_type": "code",
   "execution_count": 66,
   "id": "9a45ad3e-a11d-427b-ac3d-a605ad3484ed",
   "metadata": {},
   "outputs": [],
   "source": [
    "ln = LabelEncoder()\n",
    "\n",
    "for i in df:\n",
    "    if df[i].dtypes in (\"object\",\"bool\"):\n",
    "        df[i] = ln.fit_transform(df[i])"
   ]
  },
  {
   "cell_type": "code",
   "execution_count": 67,
   "id": "fa3443c9-6b83-43e0-9928-b103e9e9b58b",
   "metadata": {},
   "outputs": [
    {
     "data": {
      "text/html": [
       "<div>\n",
       "<style scoped>\n",
       "    .dataframe tbody tr th:only-of-type {\n",
       "        vertical-align: middle;\n",
       "    }\n",
       "\n",
       "    .dataframe tbody tr th {\n",
       "        vertical-align: top;\n",
       "    }\n",
       "\n",
       "    .dataframe thead th {\n",
       "        text-align: right;\n",
       "    }\n",
       "</style>\n",
       "<table border=\"1\" class=\"dataframe\">\n",
       "  <thead>\n",
       "    <tr style=\"text-align: right;\">\n",
       "      <th></th>\n",
       "      <th>year</th>\n",
       "      <th>selling_price</th>\n",
       "      <th>km_driven</th>\n",
       "      <th>fuel</th>\n",
       "      <th>seller_type</th>\n",
       "      <th>transmission</th>\n",
       "      <th>owner</th>\n",
       "      <th>engine</th>\n",
       "      <th>max_power</th>\n",
       "      <th>seats</th>\n",
       "      <th>Brand</th>\n",
       "      <th>Model</th>\n",
       "      <th>Mileage</th>\n",
       "      <th>Mileage_Unit</th>\n",
       "      <th>nm</th>\n",
       "      <th>rpm</th>\n",
       "    </tr>\n",
       "  </thead>\n",
       "  <tbody>\n",
       "    <tr>\n",
       "      <th>0</th>\n",
       "      <td>2014</td>\n",
       "      <td>450000</td>\n",
       "      <td>145500</td>\n",
       "      <td>1</td>\n",
       "      <td>1</td>\n",
       "      <td>1</td>\n",
       "      <td>0</td>\n",
       "      <td>1248.0</td>\n",
       "      <td>7040.0000</td>\n",
       "      <td>5.0</td>\n",
       "      <td>20</td>\n",
       "      <td>1562</td>\n",
       "      <td>23.40</td>\n",
       "      <td>1</td>\n",
       "      <td>190.0</td>\n",
       "      <td>2000.0</td>\n",
       "    </tr>\n",
       "    <tr>\n",
       "      <th>1</th>\n",
       "      <td>2014</td>\n",
       "      <td>370000</td>\n",
       "      <td>120000</td>\n",
       "      <td>1</td>\n",
       "      <td>1</td>\n",
       "      <td>1</td>\n",
       "      <td>2</td>\n",
       "      <td>1498.0</td>\n",
       "      <td>100030.0502</td>\n",
       "      <td>5.0</td>\n",
       "      <td>27</td>\n",
       "      <td>1274</td>\n",
       "      <td>21.14</td>\n",
       "      <td>1</td>\n",
       "      <td>250.0</td>\n",
       "      <td>2500.0</td>\n",
       "    </tr>\n",
       "    <tr>\n",
       "      <th>2</th>\n",
       "      <td>2006</td>\n",
       "      <td>158000</td>\n",
       "      <td>140000</td>\n",
       "      <td>3</td>\n",
       "      <td>1</td>\n",
       "      <td>1</td>\n",
       "      <td>4</td>\n",
       "      <td>1497.0</td>\n",
       "      <td>7080.0000</td>\n",
       "      <td>5.0</td>\n",
       "      <td>10</td>\n",
       "      <td>331</td>\n",
       "      <td>17.70</td>\n",
       "      <td>1</td>\n",
       "      <td>12.7</td>\n",
       "      <td>2700.0</td>\n",
       "    </tr>\n",
       "    <tr>\n",
       "      <th>3</th>\n",
       "      <td>2010</td>\n",
       "      <td>225000</td>\n",
       "      <td>127000</td>\n",
       "      <td>1</td>\n",
       "      <td>1</td>\n",
       "      <td>1</td>\n",
       "      <td>0</td>\n",
       "      <td>1396.0</td>\n",
       "      <td>9000.0000</td>\n",
       "      <td>5.0</td>\n",
       "      <td>11</td>\n",
       "      <td>2055</td>\n",
       "      <td>23.00</td>\n",
       "      <td>1</td>\n",
       "      <td>22.4</td>\n",
       "      <td>2750.0</td>\n",
       "    </tr>\n",
       "    <tr>\n",
       "      <th>4</th>\n",
       "      <td>2007</td>\n",
       "      <td>130000</td>\n",
       "      <td>120000</td>\n",
       "      <td>3</td>\n",
       "      <td>1</td>\n",
       "      <td>1</td>\n",
       "      <td>0</td>\n",
       "      <td>1298.0</td>\n",
       "      <td>8080.0200</td>\n",
       "      <td>5.0</td>\n",
       "      <td>20</td>\n",
       "      <td>1604</td>\n",
       "      <td>16.10</td>\n",
       "      <td>1</td>\n",
       "      <td>11.5</td>\n",
       "      <td>4500.0</td>\n",
       "    </tr>\n",
       "  </tbody>\n",
       "</table>\n",
       "</div>"
      ],
      "text/plain": [
       "   year  selling_price  km_driven  fuel  seller_type  transmission  owner  \\\n",
       "0  2014         450000     145500     1            1             1      0   \n",
       "1  2014         370000     120000     1            1             1      2   \n",
       "2  2006         158000     140000     3            1             1      4   \n",
       "3  2010         225000     127000     1            1             1      0   \n",
       "4  2007         130000     120000     3            1             1      0   \n",
       "\n",
       "   engine    max_power  seats  Brand  Model  Mileage  Mileage_Unit     nm  \\\n",
       "0  1248.0    7040.0000    5.0     20   1562    23.40             1  190.0   \n",
       "1  1498.0  100030.0502    5.0     27   1274    21.14             1  250.0   \n",
       "2  1497.0    7080.0000    5.0     10    331    17.70             1   12.7   \n",
       "3  1396.0    9000.0000    5.0     11   2055    23.00             1   22.4   \n",
       "4  1298.0    8080.0200    5.0     20   1604    16.10             1   11.5   \n",
       "\n",
       "      rpm  \n",
       "0  2000.0  \n",
       "1  2500.0  \n",
       "2  2700.0  \n",
       "3  2750.0  \n",
       "4  4500.0  "
      ]
     },
     "execution_count": 67,
     "metadata": {},
     "output_type": "execute_result"
    }
   ],
   "source": [
    "df.head()"
   ]
  },
  {
   "cell_type": "code",
   "execution_count": 68,
   "id": "946e73b3-7a00-43a9-899a-aee24d1cab3d",
   "metadata": {},
   "outputs": [
    {
     "data": {
      "text/plain": [
       "year               int64\n",
       "selling_price      int64\n",
       "km_driven          int64\n",
       "fuel               int32\n",
       "seller_type        int32\n",
       "transmission       int32\n",
       "owner              int32\n",
       "engine           float64\n",
       "max_power        float64\n",
       "seats            float64\n",
       "Brand              int32\n",
       "Model              int32\n",
       "Mileage          float64\n",
       "Mileage_Unit       int32\n",
       "nm               float64\n",
       "rpm              float64\n",
       "dtype: object"
      ]
     },
     "execution_count": 68,
     "metadata": {},
     "output_type": "execute_result"
    }
   ],
   "source": [
    "df.dtypes"
   ]
  },
  {
   "cell_type": "code",
   "execution_count": null,
   "id": "2c953845-58df-490d-9077-6beefdf45ebd",
   "metadata": {},
   "outputs": [],
   "source": []
  },
  {
   "cell_type": "markdown",
   "id": "67778c4e-5de4-412b-a186-f6a1ac901532",
   "metadata": {},
   "source": [
    "# Splitting the Data\n",
    "-------------------------------"
   ]
  },
  {
   "cell_type": "code",
   "execution_count": 69,
   "id": "9b074cca-5058-41e8-a499-7ceb7a53a685",
   "metadata": {},
   "outputs": [],
   "source": [
    "x = df.drop(columns=[\"selling_price\"])\n",
    "y = df[\"selling_price\"]"
   ]
  },
  {
   "cell_type": "code",
   "execution_count": 70,
   "id": "24445b0f-40ca-4032-bb7d-6683bc63c657",
   "metadata": {},
   "outputs": [
    {
     "data": {
      "text/html": [
       "<div>\n",
       "<style scoped>\n",
       "    .dataframe tbody tr th:only-of-type {\n",
       "        vertical-align: middle;\n",
       "    }\n",
       "\n",
       "    .dataframe tbody tr th {\n",
       "        vertical-align: top;\n",
       "    }\n",
       "\n",
       "    .dataframe thead th {\n",
       "        text-align: right;\n",
       "    }\n",
       "</style>\n",
       "<table border=\"1\" class=\"dataframe\">\n",
       "  <thead>\n",
       "    <tr style=\"text-align: right;\">\n",
       "      <th></th>\n",
       "      <th>year</th>\n",
       "      <th>km_driven</th>\n",
       "      <th>fuel</th>\n",
       "      <th>seller_type</th>\n",
       "      <th>transmission</th>\n",
       "      <th>owner</th>\n",
       "      <th>engine</th>\n",
       "      <th>max_power</th>\n",
       "      <th>seats</th>\n",
       "      <th>Brand</th>\n",
       "      <th>Model</th>\n",
       "      <th>Mileage</th>\n",
       "      <th>Mileage_Unit</th>\n",
       "      <th>nm</th>\n",
       "      <th>rpm</th>\n",
       "    </tr>\n",
       "  </thead>\n",
       "  <tbody>\n",
       "    <tr>\n",
       "      <th>0</th>\n",
       "      <td>2014</td>\n",
       "      <td>145500</td>\n",
       "      <td>1</td>\n",
       "      <td>1</td>\n",
       "      <td>1</td>\n",
       "      <td>0</td>\n",
       "      <td>1248.0</td>\n",
       "      <td>7040.0000</td>\n",
       "      <td>5.0</td>\n",
       "      <td>20</td>\n",
       "      <td>1562</td>\n",
       "      <td>23.40</td>\n",
       "      <td>1</td>\n",
       "      <td>190.0</td>\n",
       "      <td>2000.0</td>\n",
       "    </tr>\n",
       "    <tr>\n",
       "      <th>1</th>\n",
       "      <td>2014</td>\n",
       "      <td>120000</td>\n",
       "      <td>1</td>\n",
       "      <td>1</td>\n",
       "      <td>1</td>\n",
       "      <td>2</td>\n",
       "      <td>1498.0</td>\n",
       "      <td>100030.0502</td>\n",
       "      <td>5.0</td>\n",
       "      <td>27</td>\n",
       "      <td>1274</td>\n",
       "      <td>21.14</td>\n",
       "      <td>1</td>\n",
       "      <td>250.0</td>\n",
       "      <td>2500.0</td>\n",
       "    </tr>\n",
       "    <tr>\n",
       "      <th>2</th>\n",
       "      <td>2006</td>\n",
       "      <td>140000</td>\n",
       "      <td>3</td>\n",
       "      <td>1</td>\n",
       "      <td>1</td>\n",
       "      <td>4</td>\n",
       "      <td>1497.0</td>\n",
       "      <td>7080.0000</td>\n",
       "      <td>5.0</td>\n",
       "      <td>10</td>\n",
       "      <td>331</td>\n",
       "      <td>17.70</td>\n",
       "      <td>1</td>\n",
       "      <td>12.7</td>\n",
       "      <td>2700.0</td>\n",
       "    </tr>\n",
       "    <tr>\n",
       "      <th>3</th>\n",
       "      <td>2010</td>\n",
       "      <td>127000</td>\n",
       "      <td>1</td>\n",
       "      <td>1</td>\n",
       "      <td>1</td>\n",
       "      <td>0</td>\n",
       "      <td>1396.0</td>\n",
       "      <td>9000.0000</td>\n",
       "      <td>5.0</td>\n",
       "      <td>11</td>\n",
       "      <td>2055</td>\n",
       "      <td>23.00</td>\n",
       "      <td>1</td>\n",
       "      <td>22.4</td>\n",
       "      <td>2750.0</td>\n",
       "    </tr>\n",
       "    <tr>\n",
       "      <th>4</th>\n",
       "      <td>2007</td>\n",
       "      <td>120000</td>\n",
       "      <td>3</td>\n",
       "      <td>1</td>\n",
       "      <td>1</td>\n",
       "      <td>0</td>\n",
       "      <td>1298.0</td>\n",
       "      <td>8080.0200</td>\n",
       "      <td>5.0</td>\n",
       "      <td>20</td>\n",
       "      <td>1604</td>\n",
       "      <td>16.10</td>\n",
       "      <td>1</td>\n",
       "      <td>11.5</td>\n",
       "      <td>4500.0</td>\n",
       "    </tr>\n",
       "    <tr>\n",
       "      <th>...</th>\n",
       "      <td>...</td>\n",
       "      <td>...</td>\n",
       "      <td>...</td>\n",
       "      <td>...</td>\n",
       "      <td>...</td>\n",
       "      <td>...</td>\n",
       "      <td>...</td>\n",
       "      <td>...</td>\n",
       "      <td>...</td>\n",
       "      <td>...</td>\n",
       "      <td>...</td>\n",
       "      <td>...</td>\n",
       "      <td>...</td>\n",
       "      <td>...</td>\n",
       "      <td>...</td>\n",
       "    </tr>\n",
       "    <tr>\n",
       "      <th>8123</th>\n",
       "      <td>2013</td>\n",
       "      <td>110000</td>\n",
       "      <td>3</td>\n",
       "      <td>1</td>\n",
       "      <td>1</td>\n",
       "      <td>0</td>\n",
       "      <td>1197.0</td>\n",
       "      <td>8020.0805</td>\n",
       "      <td>5.0</td>\n",
       "      <td>11</td>\n",
       "      <td>2045</td>\n",
       "      <td>18.50</td>\n",
       "      <td>1</td>\n",
       "      <td>113.7</td>\n",
       "      <td>4000.0</td>\n",
       "    </tr>\n",
       "    <tr>\n",
       "      <th>8124</th>\n",
       "      <td>2007</td>\n",
       "      <td>119000</td>\n",
       "      <td>1</td>\n",
       "      <td>1</td>\n",
       "      <td>1</td>\n",
       "      <td>1</td>\n",
       "      <td>1493.0</td>\n",
       "      <td>101000.0000</td>\n",
       "      <td>5.0</td>\n",
       "      <td>11</td>\n",
       "      <td>1767</td>\n",
       "      <td>16.80</td>\n",
       "      <td>1</td>\n",
       "      <td>24.0</td>\n",
       "      <td>2750.0</td>\n",
       "    </tr>\n",
       "    <tr>\n",
       "      <th>8125</th>\n",
       "      <td>2009</td>\n",
       "      <td>120000</td>\n",
       "      <td>1</td>\n",
       "      <td>1</td>\n",
       "      <td>1</td>\n",
       "      <td>0</td>\n",
       "      <td>1248.0</td>\n",
       "      <td>7030.0900</td>\n",
       "      <td>5.0</td>\n",
       "      <td>20</td>\n",
       "      <td>1574</td>\n",
       "      <td>19.30</td>\n",
       "      <td>1</td>\n",
       "      <td>190.0</td>\n",
       "      <td>2000.0</td>\n",
       "    </tr>\n",
       "    <tr>\n",
       "      <th>8126</th>\n",
       "      <td>2013</td>\n",
       "      <td>25000</td>\n",
       "      <td>1</td>\n",
       "      <td>1</td>\n",
       "      <td>1</td>\n",
       "      <td>0</td>\n",
       "      <td>1396.0</td>\n",
       "      <td>7000.0000</td>\n",
       "      <td>5.0</td>\n",
       "      <td>28</td>\n",
       "      <td>886</td>\n",
       "      <td>23.57</td>\n",
       "      <td>1</td>\n",
       "      <td>140.0</td>\n",
       "      <td>3000.0</td>\n",
       "    </tr>\n",
       "    <tr>\n",
       "      <th>8127</th>\n",
       "      <td>2013</td>\n",
       "      <td>25000</td>\n",
       "      <td>1</td>\n",
       "      <td>1</td>\n",
       "      <td>1</td>\n",
       "      <td>0</td>\n",
       "      <td>1396.0</td>\n",
       "      <td>7000.0000</td>\n",
       "      <td>5.0</td>\n",
       "      <td>28</td>\n",
       "      <td>886</td>\n",
       "      <td>23.57</td>\n",
       "      <td>1</td>\n",
       "      <td>140.0</td>\n",
       "      <td>3000.0</td>\n",
       "    </tr>\n",
       "  </tbody>\n",
       "</table>\n",
       "<p>8128 rows × 15 columns</p>\n",
       "</div>"
      ],
      "text/plain": [
       "      year  km_driven  fuel  seller_type  transmission  owner  engine  \\\n",
       "0     2014     145500     1            1             1      0  1248.0   \n",
       "1     2014     120000     1            1             1      2  1498.0   \n",
       "2     2006     140000     3            1             1      4  1497.0   \n",
       "3     2010     127000     1            1             1      0  1396.0   \n",
       "4     2007     120000     3            1             1      0  1298.0   \n",
       "...    ...        ...   ...          ...           ...    ...     ...   \n",
       "8123  2013     110000     3            1             1      0  1197.0   \n",
       "8124  2007     119000     1            1             1      1  1493.0   \n",
       "8125  2009     120000     1            1             1      0  1248.0   \n",
       "8126  2013      25000     1            1             1      0  1396.0   \n",
       "8127  2013      25000     1            1             1      0  1396.0   \n",
       "\n",
       "        max_power  seats  Brand  Model  Mileage  Mileage_Unit     nm     rpm  \n",
       "0       7040.0000    5.0     20   1562    23.40             1  190.0  2000.0  \n",
       "1     100030.0502    5.0     27   1274    21.14             1  250.0  2500.0  \n",
       "2       7080.0000    5.0     10    331    17.70             1   12.7  2700.0  \n",
       "3       9000.0000    5.0     11   2055    23.00             1   22.4  2750.0  \n",
       "4       8080.0200    5.0     20   1604    16.10             1   11.5  4500.0  \n",
       "...           ...    ...    ...    ...      ...           ...    ...     ...  \n",
       "8123    8020.0805    5.0     11   2045    18.50             1  113.7  4000.0  \n",
       "8124  101000.0000    5.0     11   1767    16.80             1   24.0  2750.0  \n",
       "8125    7030.0900    5.0     20   1574    19.30             1  190.0  2000.0  \n",
       "8126    7000.0000    5.0     28    886    23.57             1  140.0  3000.0  \n",
       "8127    7000.0000    5.0     28    886    23.57             1  140.0  3000.0  \n",
       "\n",
       "[8128 rows x 15 columns]"
      ]
     },
     "execution_count": 70,
     "metadata": {},
     "output_type": "execute_result"
    }
   ],
   "source": [
    "x"
   ]
  },
  {
   "cell_type": "code",
   "execution_count": 71,
   "id": "66f51b1e-34be-40c2-a9c5-da32b393b935",
   "metadata": {},
   "outputs": [
    {
     "data": {
      "text/plain": [
       "0       450000\n",
       "1       370000\n",
       "2       158000\n",
       "3       225000\n",
       "4       130000\n",
       "         ...  \n",
       "8123    320000\n",
       "8124    135000\n",
       "8125    382000\n",
       "8126    290000\n",
       "8127    290000\n",
       "Name: selling_price, Length: 8128, dtype: int64"
      ]
     },
     "execution_count": 71,
     "metadata": {},
     "output_type": "execute_result"
    }
   ],
   "source": [
    "y"
   ]
  },
  {
   "cell_type": "code",
   "execution_count": 72,
   "id": "3adc854f-ab99-480d-a7c2-0f4b93e7bf8e",
   "metadata": {},
   "outputs": [],
   "source": [
    "x_train,x_test,y_train,y_test = train_test_split(x,y,test_size=0.15,random_state=25)"
   ]
  },
  {
   "cell_type": "code",
   "execution_count": 73,
   "id": "5eb8460e-e368-4f1c-85e0-42d5e8033264",
   "metadata": {},
   "outputs": [
    {
     "data": {
      "text/html": [
       "<div>\n",
       "<style scoped>\n",
       "    .dataframe tbody tr th:only-of-type {\n",
       "        vertical-align: middle;\n",
       "    }\n",
       "\n",
       "    .dataframe tbody tr th {\n",
       "        vertical-align: top;\n",
       "    }\n",
       "\n",
       "    .dataframe thead th {\n",
       "        text-align: right;\n",
       "    }\n",
       "</style>\n",
       "<table border=\"1\" class=\"dataframe\">\n",
       "  <thead>\n",
       "    <tr style=\"text-align: right;\">\n",
       "      <th></th>\n",
       "      <th>year</th>\n",
       "      <th>km_driven</th>\n",
       "      <th>fuel</th>\n",
       "      <th>seller_type</th>\n",
       "      <th>transmission</th>\n",
       "      <th>owner</th>\n",
       "      <th>engine</th>\n",
       "      <th>max_power</th>\n",
       "      <th>seats</th>\n",
       "      <th>Brand</th>\n",
       "      <th>Model</th>\n",
       "      <th>Mileage</th>\n",
       "      <th>Mileage_Unit</th>\n",
       "      <th>nm</th>\n",
       "      <th>rpm</th>\n",
       "    </tr>\n",
       "  </thead>\n",
       "  <tbody>\n",
       "    <tr>\n",
       "      <th>5851</th>\n",
       "      <td>2009</td>\n",
       "      <td>75000</td>\n",
       "      <td>3</td>\n",
       "      <td>1</td>\n",
       "      <td>1</td>\n",
       "      <td>2</td>\n",
       "      <td>1368.0</td>\n",
       "      <td>9000.0000</td>\n",
       "      <td>5.0</td>\n",
       "      <td>28</td>\n",
       "      <td>1075</td>\n",
       "      <td>15.0</td>\n",
       "      <td>1</td>\n",
       "      <td>116.0</td>\n",
       "      <td>4750.0</td>\n",
       "    </tr>\n",
       "    <tr>\n",
       "      <th>6163</th>\n",
       "      <td>2019</td>\n",
       "      <td>1300</td>\n",
       "      <td>3</td>\n",
       "      <td>1</td>\n",
       "      <td>1</td>\n",
       "      <td>0</td>\n",
       "      <td>999.0</td>\n",
       "      <td>6070.0000</td>\n",
       "      <td>5.0</td>\n",
       "      <td>6</td>\n",
       "      <td>1299</td>\n",
       "      <td>22.5</td>\n",
       "      <td>1</td>\n",
       "      <td>91.0</td>\n",
       "      <td>4250.0</td>\n",
       "    </tr>\n",
       "    <tr>\n",
       "      <th>3701</th>\n",
       "      <td>2012</td>\n",
       "      <td>70000</td>\n",
       "      <td>3</td>\n",
       "      <td>1</td>\n",
       "      <td>1</td>\n",
       "      <td>2</td>\n",
       "      <td>1197.0</td>\n",
       "      <td>8050.0800</td>\n",
       "      <td>5.0</td>\n",
       "      <td>20</td>\n",
       "      <td>1616</td>\n",
       "      <td>18.6</td>\n",
       "      <td>1</td>\n",
       "      <td>114.0</td>\n",
       "      <td>4000.0</td>\n",
       "    </tr>\n",
       "    <tr>\n",
       "      <th>2573</th>\n",
       "      <td>2013</td>\n",
       "      <td>90000</td>\n",
       "      <td>0</td>\n",
       "      <td>1</td>\n",
       "      <td>1</td>\n",
       "      <td>0</td>\n",
       "      <td>998.0</td>\n",
       "      <td>5080.0106</td>\n",
       "      <td>5.0</td>\n",
       "      <td>20</td>\n",
       "      <td>1816</td>\n",
       "      <td>26.6</td>\n",
       "      <td>0</td>\n",
       "      <td>77.0</td>\n",
       "      <td>3500.0</td>\n",
       "    </tr>\n",
       "    <tr>\n",
       "      <th>3435</th>\n",
       "      <td>2013</td>\n",
       "      <td>210000</td>\n",
       "      <td>1</td>\n",
       "      <td>1</td>\n",
       "      <td>1</td>\n",
       "      <td>4</td>\n",
       "      <td>1396.0</td>\n",
       "      <td>8080.0706</td>\n",
       "      <td>5.0</td>\n",
       "      <td>11</td>\n",
       "      <td>2053</td>\n",
       "      <td>21.9</td>\n",
       "      <td>1</td>\n",
       "      <td>219.6</td>\n",
       "      <td>2750.0</td>\n",
       "    </tr>\n",
       "  </tbody>\n",
       "</table>\n",
       "</div>"
      ],
      "text/plain": [
       "      year  km_driven  fuel  seller_type  transmission  owner  engine  \\\n",
       "5851  2009      75000     3            1             1      2  1368.0   \n",
       "6163  2019       1300     3            1             1      0   999.0   \n",
       "3701  2012      70000     3            1             1      2  1197.0   \n",
       "2573  2013      90000     0            1             1      0   998.0   \n",
       "3435  2013     210000     1            1             1      4  1396.0   \n",
       "\n",
       "      max_power  seats  Brand  Model  Mileage  Mileage_Unit     nm     rpm  \n",
       "5851  9000.0000    5.0     28   1075     15.0             1  116.0  4750.0  \n",
       "6163  6070.0000    5.0      6   1299     22.5             1   91.0  4250.0  \n",
       "3701  8050.0800    5.0     20   1616     18.6             1  114.0  4000.0  \n",
       "2573  5080.0106    5.0     20   1816     26.6             0   77.0  3500.0  \n",
       "3435  8080.0706    5.0     11   2053     21.9             1  219.6  2750.0  "
      ]
     },
     "execution_count": 73,
     "metadata": {},
     "output_type": "execute_result"
    }
   ],
   "source": [
    "x_train.head()"
   ]
  },
  {
   "cell_type": "code",
   "execution_count": 74,
   "id": "5fa18b8b-7a8b-4d6f-8ca3-7cd117cd3ffa",
   "metadata": {},
   "outputs": [
    {
     "data": {
      "text/plain": [
       "5851    150000\n",
       "6163    325000\n",
       "3701    280000\n",
       "2573    211000\n",
       "3435    360000\n",
       "Name: selling_price, dtype: int64"
      ]
     },
     "execution_count": 74,
     "metadata": {},
     "output_type": "execute_result"
    }
   ],
   "source": [
    "y_train.head()"
   ]
  },
  {
   "cell_type": "code",
   "execution_count": 75,
   "id": "76ef7b0c-3769-4e58-bc8f-1b0fb2b59360",
   "metadata": {},
   "outputs": [
    {
     "name": "stdout",
     "output_type": "stream",
     "text": [
      "Total number of rows and columns in x_train(6908, 15)\n"
     ]
    }
   ],
   "source": [
    "print(f\"Total number of rows and columns in x_train{x_train.shape}\")"
   ]
  },
  {
   "cell_type": "code",
   "execution_count": 76,
   "id": "92f07ac2-1fd6-4350-8d6e-d959a9dbcd0b",
   "metadata": {},
   "outputs": [
    {
     "name": "stdout",
     "output_type": "stream",
     "text": [
      "Total number of rows and columns in x_test(1220, 15)\n"
     ]
    }
   ],
   "source": [
    "print(f\"Total number of rows and columns in x_test{x_test.shape}\")"
   ]
  },
  {
   "cell_type": "code",
   "execution_count": 77,
   "id": "75e57733-79df-49d6-ae83-2618a25adf68",
   "metadata": {},
   "outputs": [
    {
     "name": "stdout",
     "output_type": "stream",
     "text": [
      "Total number of rows and columns in y_train(6908,)\n"
     ]
    }
   ],
   "source": [
    "print(f\"Total number of rows and columns in y_train{y_train.shape}\")"
   ]
  },
  {
   "cell_type": "code",
   "execution_count": 78,
   "id": "8cb8e919-3b60-46eb-8ab9-a02fd49391ee",
   "metadata": {},
   "outputs": [
    {
     "name": "stdout",
     "output_type": "stream",
     "text": [
      "Total number of rows and columns in y_test(1220,)\n"
     ]
    }
   ],
   "source": [
    "print(f\"Total number of rows and columns in y_test{y_test.shape}\")"
   ]
  },
  {
   "cell_type": "markdown",
   "id": "c31a4cec-9dd0-4ef7-9896-99196400716f",
   "metadata": {},
   "source": [
    "# Building, Training and Testing the Models\n",
    "-----------------------------------------------"
   ]
  },
  {
   "cell_type": "code",
   "execution_count": null,
   "id": "23139651-5e28-47c9-bda7-7fbe9eff3e65",
   "metadata": {},
   "outputs": [],
   "source": []
  },
  {
   "cell_type": "markdown",
   "id": "01309e44-061c-4467-9678-9f6accf84ce8",
   "metadata": {},
   "source": [
    "## Building K-NN Model\n",
    "------------------------------------------------------------"
   ]
  },
  {
   "cell_type": "code",
   "execution_count": 79,
   "id": "88431bc6-9040-4097-b12f-6abb70fa894d",
   "metadata": {},
   "outputs": [
    {
     "data": {
      "text/html": [
       "<style>#sk-container-id-1 {color: black;background-color: white;}#sk-container-id-1 pre{padding: 0;}#sk-container-id-1 div.sk-toggleable {background-color: white;}#sk-container-id-1 label.sk-toggleable__label {cursor: pointer;display: block;width: 100%;margin-bottom: 0;padding: 0.3em;box-sizing: border-box;text-align: center;}#sk-container-id-1 label.sk-toggleable__label-arrow:before {content: \"▸\";float: left;margin-right: 0.25em;color: #696969;}#sk-container-id-1 label.sk-toggleable__label-arrow:hover:before {color: black;}#sk-container-id-1 div.sk-estimator:hover label.sk-toggleable__label-arrow:before {color: black;}#sk-container-id-1 div.sk-toggleable__content {max-height: 0;max-width: 0;overflow: hidden;text-align: left;background-color: #f0f8ff;}#sk-container-id-1 div.sk-toggleable__content pre {margin: 0.2em;color: black;border-radius: 0.25em;background-color: #f0f8ff;}#sk-container-id-1 input.sk-toggleable__control:checked~div.sk-toggleable__content {max-height: 200px;max-width: 100%;overflow: auto;}#sk-container-id-1 input.sk-toggleable__control:checked~label.sk-toggleable__label-arrow:before {content: \"▾\";}#sk-container-id-1 div.sk-estimator input.sk-toggleable__control:checked~label.sk-toggleable__label {background-color: #d4ebff;}#sk-container-id-1 div.sk-label input.sk-toggleable__control:checked~label.sk-toggleable__label {background-color: #d4ebff;}#sk-container-id-1 input.sk-hidden--visually {border: 0;clip: rect(1px 1px 1px 1px);clip: rect(1px, 1px, 1px, 1px);height: 1px;margin: -1px;overflow: hidden;padding: 0;position: absolute;width: 1px;}#sk-container-id-1 div.sk-estimator {font-family: monospace;background-color: #f0f8ff;border: 1px dotted black;border-radius: 0.25em;box-sizing: border-box;margin-bottom: 0.5em;}#sk-container-id-1 div.sk-estimator:hover {background-color: #d4ebff;}#sk-container-id-1 div.sk-parallel-item::after {content: \"\";width: 100%;border-bottom: 1px solid gray;flex-grow: 1;}#sk-container-id-1 div.sk-label:hover label.sk-toggleable__label {background-color: #d4ebff;}#sk-container-id-1 div.sk-serial::before {content: \"\";position: absolute;border-left: 1px solid gray;box-sizing: border-box;top: 0;bottom: 0;left: 50%;z-index: 0;}#sk-container-id-1 div.sk-serial {display: flex;flex-direction: column;align-items: center;background-color: white;padding-right: 0.2em;padding-left: 0.2em;position: relative;}#sk-container-id-1 div.sk-item {position: relative;z-index: 1;}#sk-container-id-1 div.sk-parallel {display: flex;align-items: stretch;justify-content: center;background-color: white;position: relative;}#sk-container-id-1 div.sk-item::before, #sk-container-id-1 div.sk-parallel-item::before {content: \"\";position: absolute;border-left: 1px solid gray;box-sizing: border-box;top: 0;bottom: 0;left: 50%;z-index: -1;}#sk-container-id-1 div.sk-parallel-item {display: flex;flex-direction: column;z-index: 1;position: relative;background-color: white;}#sk-container-id-1 div.sk-parallel-item:first-child::after {align-self: flex-end;width: 50%;}#sk-container-id-1 div.sk-parallel-item:last-child::after {align-self: flex-start;width: 50%;}#sk-container-id-1 div.sk-parallel-item:only-child::after {width: 0;}#sk-container-id-1 div.sk-dashed-wrapped {border: 1px dashed gray;margin: 0 0.4em 0.5em 0.4em;box-sizing: border-box;padding-bottom: 0.4em;background-color: white;}#sk-container-id-1 div.sk-label label {font-family: monospace;font-weight: bold;display: inline-block;line-height: 1.2em;}#sk-container-id-1 div.sk-label-container {text-align: center;}#sk-container-id-1 div.sk-container {/* jupyter's `normalize.less` sets `[hidden] { display: none; }` but bootstrap.min.css set `[hidden] { display: none !important; }` so we also need the `!important` here to be able to override the default hidden behavior on the sphinx rendered scikit-learn.org. See: https://github.com/scikit-learn/scikit-learn/issues/21755 */display: inline-block !important;position: relative;}#sk-container-id-1 div.sk-text-repr-fallback {display: none;}</style><div id=\"sk-container-id-1\" class=\"sk-top-container\"><div class=\"sk-text-repr-fallback\"><pre>KNeighborsRegressor()</pre><b>In a Jupyter environment, please rerun this cell to show the HTML representation or trust the notebook. <br />On GitHub, the HTML representation is unable to render, please try loading this page with nbviewer.org.</b></div><div class=\"sk-container\" hidden><div class=\"sk-item\"><div class=\"sk-estimator sk-toggleable\"><input class=\"sk-toggleable__control sk-hidden--visually\" id=\"sk-estimator-id-1\" type=\"checkbox\" checked><label for=\"sk-estimator-id-1\" class=\"sk-toggleable__label sk-toggleable__label-arrow\">KNeighborsRegressor</label><div class=\"sk-toggleable__content\"><pre>KNeighborsRegressor()</pre></div></div></div></div></div>"
      ],
      "text/plain": [
       "KNeighborsRegressor()"
      ]
     },
     "execution_count": 79,
     "metadata": {},
     "output_type": "execute_result"
    }
   ],
   "source": [
    "kn = KNeighborsRegressor()\n",
    "kn.fit(x_train,y_train)"
   ]
  },
  {
   "cell_type": "code",
   "execution_count": 80,
   "id": "4b13a7a8-bbc5-480f-8bf2-65964698e47b",
   "metadata": {},
   "outputs": [],
   "source": [
    "ac = kn.score(x_train,y_train)\n",
    "ac1 = kn.score(x_test,y_test)"
   ]
  },
  {
   "cell_type": "code",
   "execution_count": 81,
   "id": "125431eb-a042-4703-8cb8-a50db481bfdc",
   "metadata": {},
   "outputs": [
    {
     "name": "stdout",
     "output_type": "stream",
     "text": [
      "--------------------------------------------------------------------------------\n",
      "The Accuracy of train data is  0.922589064130468\n",
      "--------------------------------------------------------------------------------\n",
      "The accuracy of test data is 0.9186366933769297\n",
      "--------------------------------------------------------------------------------\n"
     ]
    }
   ],
   "source": [
    "print(\"-\"*80)\n",
    "print(\"The Accuracy of train data is \",ac)\n",
    "print(\"-\"*80)\n",
    "print(\"The accuracy of test data is\",ac1)\n",
    "print(\"-\"*80)"
   ]
  },
  {
   "cell_type": "code",
   "execution_count": 82,
   "id": "cd0b168b-c767-4e2b-b8f3-533d2ecb7142",
   "metadata": {},
   "outputs": [],
   "source": [
    "pred = kn.predict(x_test)"
   ]
  },
  {
   "cell_type": "code",
   "execution_count": 83,
   "id": "9a3d6863-557b-4ae0-ac63-d5139187fb75",
   "metadata": {},
   "outputs": [
    {
     "data": {
      "text/plain": [
       "array([2418000.,  222000.,  559000., ...,  303400.,  848000.,  660000.])"
      ]
     },
     "execution_count": 83,
     "metadata": {},
     "output_type": "execute_result"
    }
   ],
   "source": [
    "pred"
   ]
  },
  {
   "cell_type": "code",
   "execution_count": 84,
   "id": "d3e119f7-c502-4dbd-adf0-d56abb5b8031",
   "metadata": {},
   "outputs": [
    {
     "data": {
      "text/plain": [
       "4799    2150000\n",
       "1293     204999\n",
       "2351     459999\n",
       "3374     310000\n",
       "349      434999\n",
       "Name: selling_price, dtype: int64"
      ]
     },
     "execution_count": 84,
     "metadata": {},
     "output_type": "execute_result"
    }
   ],
   "source": [
    "y_test.head()"
   ]
  },
  {
   "cell_type": "code",
   "execution_count": 85,
   "id": "a45e7fa9-c535-4231-becd-61e8aa1600eb",
   "metadata": {},
   "outputs": [
    {
     "name": "stdout",
     "output_type": "stream",
     "text": [
      "--------------------------------------------------------------------------------\n",
      "Mean squared error is :- 57205517818.904\n",
      "--------------------------------------------------------------------------------\n"
     ]
    }
   ],
   "source": [
    "ms = mean_squared_error(y_test,pred)\n",
    "print(\"-\"*80)\n",
    "print(\"Mean squared error is :-\",ms)\n",
    "print(\"-\"*80)"
   ]
  },
  {
   "cell_type": "code",
   "execution_count": 86,
   "id": "e3ceb7df-5d7c-42a9-a62d-09121c874245",
   "metadata": {},
   "outputs": [
    {
     "name": "stdout",
     "output_type": "stream",
     "text": [
      "--------------------------------------------------------------------------------\n",
      "Mean absolute error is :- 138743.80098360655\n",
      "--------------------------------------------------------------------------------\n"
     ]
    }
   ],
   "source": [
    "ma = mean_absolute_error(y_test,pred)\n",
    "print(\"-\"*80)\n",
    "print(\"Mean absolute error is :-\",ma)\n",
    "print(\"-\"*80)"
   ]
  },
  {
   "cell_type": "code",
   "execution_count": 87,
   "id": "d424ea7c-fc0f-4292-b258-502f4db8c1d0",
   "metadata": {},
   "outputs": [
    {
     "name": "stdout",
     "output_type": "stream",
     "text": [
      "--------------------------------------------------------------------------------\n",
      "Mean absolute percentage error is :- 0.38493022877198146\n",
      "--------------------------------------------------------------------------------\n"
     ]
    }
   ],
   "source": [
    "map = mean_absolute_percentage_error(y_test,pred)\n",
    "print(\"-\"*80)\n",
    "print(\"Mean absolute percentage error is :-\",map)\n",
    "print(\"-\"*80)"
   ]
  },
  {
   "cell_type": "code",
   "execution_count": 88,
   "id": "75e0a554-d921-4ad8-8bbe-94b2e7185c20",
   "metadata": {},
   "outputs": [
    {
     "name": "stdout",
     "output_type": "stream",
     "text": [
      "--------------------------------------------------------------------------------\n",
      "r2_score is :- 0.9186366933769297\n",
      "--------------------------------------------------------------------------------\n"
     ]
    }
   ],
   "source": [
    "r = r2_score(y_test,pred)\n",
    "print(\"-\"*80)\n",
    "print(\"r2_score is :-\",r)\n",
    "print(\"-\"*80)"
   ]
  },
  {
   "cell_type": "code",
   "execution_count": null,
   "id": "3b7570bc-944d-4dee-877a-aa23c41ee17b",
   "metadata": {},
   "outputs": [],
   "source": []
  },
  {
   "cell_type": "markdown",
   "id": "f9790213-0f8d-4e4d-8da2-d1ba094ffbda",
   "metadata": {},
   "source": [
    "## Building Decision Tree Model\n",
    "---------------------------------------------"
   ]
  },
  {
   "cell_type": "code",
   "execution_count": 89,
   "id": "58eb0437-1ac9-4125-b432-dcf373f2c0fb",
   "metadata": {},
   "outputs": [
    {
     "data": {
      "text/html": [
       "<style>#sk-container-id-2 {color: black;background-color: white;}#sk-container-id-2 pre{padding: 0;}#sk-container-id-2 div.sk-toggleable {background-color: white;}#sk-container-id-2 label.sk-toggleable__label {cursor: pointer;display: block;width: 100%;margin-bottom: 0;padding: 0.3em;box-sizing: border-box;text-align: center;}#sk-container-id-2 label.sk-toggleable__label-arrow:before {content: \"▸\";float: left;margin-right: 0.25em;color: #696969;}#sk-container-id-2 label.sk-toggleable__label-arrow:hover:before {color: black;}#sk-container-id-2 div.sk-estimator:hover label.sk-toggleable__label-arrow:before {color: black;}#sk-container-id-2 div.sk-toggleable__content {max-height: 0;max-width: 0;overflow: hidden;text-align: left;background-color: #f0f8ff;}#sk-container-id-2 div.sk-toggleable__content pre {margin: 0.2em;color: black;border-radius: 0.25em;background-color: #f0f8ff;}#sk-container-id-2 input.sk-toggleable__control:checked~div.sk-toggleable__content {max-height: 200px;max-width: 100%;overflow: auto;}#sk-container-id-2 input.sk-toggleable__control:checked~label.sk-toggleable__label-arrow:before {content: \"▾\";}#sk-container-id-2 div.sk-estimator input.sk-toggleable__control:checked~label.sk-toggleable__label {background-color: #d4ebff;}#sk-container-id-2 div.sk-label input.sk-toggleable__control:checked~label.sk-toggleable__label {background-color: #d4ebff;}#sk-container-id-2 input.sk-hidden--visually {border: 0;clip: rect(1px 1px 1px 1px);clip: rect(1px, 1px, 1px, 1px);height: 1px;margin: -1px;overflow: hidden;padding: 0;position: absolute;width: 1px;}#sk-container-id-2 div.sk-estimator {font-family: monospace;background-color: #f0f8ff;border: 1px dotted black;border-radius: 0.25em;box-sizing: border-box;margin-bottom: 0.5em;}#sk-container-id-2 div.sk-estimator:hover {background-color: #d4ebff;}#sk-container-id-2 div.sk-parallel-item::after {content: \"\";width: 100%;border-bottom: 1px solid gray;flex-grow: 1;}#sk-container-id-2 div.sk-label:hover label.sk-toggleable__label {background-color: #d4ebff;}#sk-container-id-2 div.sk-serial::before {content: \"\";position: absolute;border-left: 1px solid gray;box-sizing: border-box;top: 0;bottom: 0;left: 50%;z-index: 0;}#sk-container-id-2 div.sk-serial {display: flex;flex-direction: column;align-items: center;background-color: white;padding-right: 0.2em;padding-left: 0.2em;position: relative;}#sk-container-id-2 div.sk-item {position: relative;z-index: 1;}#sk-container-id-2 div.sk-parallel {display: flex;align-items: stretch;justify-content: center;background-color: white;position: relative;}#sk-container-id-2 div.sk-item::before, #sk-container-id-2 div.sk-parallel-item::before {content: \"\";position: absolute;border-left: 1px solid gray;box-sizing: border-box;top: 0;bottom: 0;left: 50%;z-index: -1;}#sk-container-id-2 div.sk-parallel-item {display: flex;flex-direction: column;z-index: 1;position: relative;background-color: white;}#sk-container-id-2 div.sk-parallel-item:first-child::after {align-self: flex-end;width: 50%;}#sk-container-id-2 div.sk-parallel-item:last-child::after {align-self: flex-start;width: 50%;}#sk-container-id-2 div.sk-parallel-item:only-child::after {width: 0;}#sk-container-id-2 div.sk-dashed-wrapped {border: 1px dashed gray;margin: 0 0.4em 0.5em 0.4em;box-sizing: border-box;padding-bottom: 0.4em;background-color: white;}#sk-container-id-2 div.sk-label label {font-family: monospace;font-weight: bold;display: inline-block;line-height: 1.2em;}#sk-container-id-2 div.sk-label-container {text-align: center;}#sk-container-id-2 div.sk-container {/* jupyter's `normalize.less` sets `[hidden] { display: none; }` but bootstrap.min.css set `[hidden] { display: none !important; }` so we also need the `!important` here to be able to override the default hidden behavior on the sphinx rendered scikit-learn.org. See: https://github.com/scikit-learn/scikit-learn/issues/21755 */display: inline-block !important;position: relative;}#sk-container-id-2 div.sk-text-repr-fallback {display: none;}</style><div id=\"sk-container-id-2\" class=\"sk-top-container\"><div class=\"sk-text-repr-fallback\"><pre>DecisionTreeRegressor()</pre><b>In a Jupyter environment, please rerun this cell to show the HTML representation or trust the notebook. <br />On GitHub, the HTML representation is unable to render, please try loading this page with nbviewer.org.</b></div><div class=\"sk-container\" hidden><div class=\"sk-item\"><div class=\"sk-estimator sk-toggleable\"><input class=\"sk-toggleable__control sk-hidden--visually\" id=\"sk-estimator-id-2\" type=\"checkbox\" checked><label for=\"sk-estimator-id-2\" class=\"sk-toggleable__label sk-toggleable__label-arrow\">DecisionTreeRegressor</label><div class=\"sk-toggleable__content\"><pre>DecisionTreeRegressor()</pre></div></div></div></div></div>"
      ],
      "text/plain": [
       "DecisionTreeRegressor()"
      ]
     },
     "execution_count": 89,
     "metadata": {},
     "output_type": "execute_result"
    }
   ],
   "source": [
    "dt = DecisionTreeRegressor()\n",
    "dt.fit(x_train,y_train)"
   ]
  },
  {
   "cell_type": "code",
   "execution_count": 90,
   "id": "03c02a0c-9933-4cca-a476-9ebb2373bf4d",
   "metadata": {},
   "outputs": [],
   "source": [
    "ac2 = dt.score(x_train,y_train)\n",
    "ac3 = dt.score(x_test,y_test)"
   ]
  },
  {
   "cell_type": "code",
   "execution_count": 91,
   "id": "2f290bdb-46e2-46c2-b048-6c4f4d238a84",
   "metadata": {},
   "outputs": [
    {
     "name": "stdout",
     "output_type": "stream",
     "text": [
      "--------------------------------------------------------------------------------\n",
      "The Accuracy of train data is  0.9998441722246297\n",
      "--------------------------------------------------------------------------------\n",
      "The accuracy of test data is 0.9106178288805218\n",
      "--------------------------------------------------------------------------------\n"
     ]
    }
   ],
   "source": [
    "print(\"-\"*80)\n",
    "print(\"The Accuracy of train data is \",ac2)\n",
    "print(\"-\"*80)\n",
    "print(\"The accuracy of test data is\",ac3)\n",
    "print(\"-\"*80)"
   ]
  },
  {
   "cell_type": "code",
   "execution_count": 92,
   "id": "2556628d-0cad-4ccc-9f85-3162ed4a2f2f",
   "metadata": {},
   "outputs": [],
   "source": [
    "pred2 = dt.predict(x_test)"
   ]
  },
  {
   "cell_type": "code",
   "execution_count": 93,
   "id": "7827952e-4076-4a67-807c-6d93c3a73aa1",
   "metadata": {},
   "outputs": [
    {
     "data": {
      "text/plain": [
       "array([2150000.,  220000.,  490000., ...,  250000.,  585000.,  800000.])"
      ]
     },
     "execution_count": 93,
     "metadata": {},
     "output_type": "execute_result"
    }
   ],
   "source": [
    "pred2"
   ]
  },
  {
   "cell_type": "code",
   "execution_count": 94,
   "id": "f92d3134-dac8-4781-b9ba-d5a7211c8ebd",
   "metadata": {},
   "outputs": [
    {
     "name": "stdout",
     "output_type": "stream",
     "text": [
      "--------------------------------------------------------------------------------\n",
      "Mean squared error is :- 62843480616.57831\n",
      "--------------------------------------------------------------------------------\n"
     ]
    }
   ],
   "source": [
    "ms1 = mean_squared_error(y_test,pred2)\n",
    "print(\"-\"*80)\n",
    "print(\"Mean squared error is :-\",ms1)\n",
    "print(\"-\"*80)"
   ]
  },
  {
   "cell_type": "code",
   "execution_count": 95,
   "id": "550f4163-58e3-490d-a79f-022311e9fcf3",
   "metadata": {},
   "outputs": [
    {
     "name": "stdout",
     "output_type": "stream",
     "text": [
      "--------------------------------------------------------------------------------\n",
      "Mean absolute error is :- 80233.33771085768\n",
      "--------------------------------------------------------------------------------\n"
     ]
    }
   ],
   "source": [
    "ma1 = mean_absolute_error(y_test,pred2)\n",
    "print(\"-\"*80)\n",
    "print(\"Mean absolute error is :-\",ma1)\n",
    "print(\"-\"*80)"
   ]
  },
  {
   "cell_type": "code",
   "execution_count": 96,
   "id": "bf32c4b5-2226-4886-b2ab-a266303ff0a8",
   "metadata": {},
   "outputs": [
    {
     "name": "stdout",
     "output_type": "stream",
     "text": [
      "--------------------------------------------------------------------------------\n",
      "Mean absolute percentage error is :- 0.17913182289176513\n",
      "--------------------------------------------------------------------------------\n"
     ]
    }
   ],
   "source": [
    "map1 = mean_absolute_percentage_error(y_test,pred2)\n",
    "print(\"-\"*80)\n",
    "print(\"Mean absolute percentage error is :-\",map1)\n",
    "print(\"-\"*80)"
   ]
  },
  {
   "cell_type": "code",
   "execution_count": 97,
   "id": "c9719010-e386-42d0-bb97-3d9c665cb739",
   "metadata": {},
   "outputs": [
    {
     "name": "stdout",
     "output_type": "stream",
     "text": [
      "--------------------------------------------------------------------------------\n",
      "r2_score is :- 0.9106178288805218\n",
      "--------------------------------------------------------------------------------\n"
     ]
    }
   ],
   "source": [
    "r1 = r2_score(y_test,pred2)\n",
    "print(\"-\"*80)\n",
    "print(\"r2_score is :-\",r1)\n",
    "print(\"-\"*80)"
   ]
  },
  {
   "cell_type": "code",
   "execution_count": null,
   "id": "b7b47cee-5ff2-4c87-ba5f-616e9fe00b98",
   "metadata": {},
   "outputs": [],
   "source": []
  },
  {
   "cell_type": "markdown",
   "id": "839f3acf-249c-47a1-b3f9-eb7d2cfd1656",
   "metadata": {},
   "source": [
    "## Building Random Forest Model\n",
    "----------------------------------------------------"
   ]
  },
  {
   "cell_type": "code",
   "execution_count": 98,
   "id": "84c79ca5-ac19-44cc-b221-ad06d8fd19a5",
   "metadata": {},
   "outputs": [
    {
     "data": {
      "text/html": [
       "<style>#sk-container-id-3 {color: black;background-color: white;}#sk-container-id-3 pre{padding: 0;}#sk-container-id-3 div.sk-toggleable {background-color: white;}#sk-container-id-3 label.sk-toggleable__label {cursor: pointer;display: block;width: 100%;margin-bottom: 0;padding: 0.3em;box-sizing: border-box;text-align: center;}#sk-container-id-3 label.sk-toggleable__label-arrow:before {content: \"▸\";float: left;margin-right: 0.25em;color: #696969;}#sk-container-id-3 label.sk-toggleable__label-arrow:hover:before {color: black;}#sk-container-id-3 div.sk-estimator:hover label.sk-toggleable__label-arrow:before {color: black;}#sk-container-id-3 div.sk-toggleable__content {max-height: 0;max-width: 0;overflow: hidden;text-align: left;background-color: #f0f8ff;}#sk-container-id-3 div.sk-toggleable__content pre {margin: 0.2em;color: black;border-radius: 0.25em;background-color: #f0f8ff;}#sk-container-id-3 input.sk-toggleable__control:checked~div.sk-toggleable__content {max-height: 200px;max-width: 100%;overflow: auto;}#sk-container-id-3 input.sk-toggleable__control:checked~label.sk-toggleable__label-arrow:before {content: \"▾\";}#sk-container-id-3 div.sk-estimator input.sk-toggleable__control:checked~label.sk-toggleable__label {background-color: #d4ebff;}#sk-container-id-3 div.sk-label input.sk-toggleable__control:checked~label.sk-toggleable__label {background-color: #d4ebff;}#sk-container-id-3 input.sk-hidden--visually {border: 0;clip: rect(1px 1px 1px 1px);clip: rect(1px, 1px, 1px, 1px);height: 1px;margin: -1px;overflow: hidden;padding: 0;position: absolute;width: 1px;}#sk-container-id-3 div.sk-estimator {font-family: monospace;background-color: #f0f8ff;border: 1px dotted black;border-radius: 0.25em;box-sizing: border-box;margin-bottom: 0.5em;}#sk-container-id-3 div.sk-estimator:hover {background-color: #d4ebff;}#sk-container-id-3 div.sk-parallel-item::after {content: \"\";width: 100%;border-bottom: 1px solid gray;flex-grow: 1;}#sk-container-id-3 div.sk-label:hover label.sk-toggleable__label {background-color: #d4ebff;}#sk-container-id-3 div.sk-serial::before {content: \"\";position: absolute;border-left: 1px solid gray;box-sizing: border-box;top: 0;bottom: 0;left: 50%;z-index: 0;}#sk-container-id-3 div.sk-serial {display: flex;flex-direction: column;align-items: center;background-color: white;padding-right: 0.2em;padding-left: 0.2em;position: relative;}#sk-container-id-3 div.sk-item {position: relative;z-index: 1;}#sk-container-id-3 div.sk-parallel {display: flex;align-items: stretch;justify-content: center;background-color: white;position: relative;}#sk-container-id-3 div.sk-item::before, #sk-container-id-3 div.sk-parallel-item::before {content: \"\";position: absolute;border-left: 1px solid gray;box-sizing: border-box;top: 0;bottom: 0;left: 50%;z-index: -1;}#sk-container-id-3 div.sk-parallel-item {display: flex;flex-direction: column;z-index: 1;position: relative;background-color: white;}#sk-container-id-3 div.sk-parallel-item:first-child::after {align-self: flex-end;width: 50%;}#sk-container-id-3 div.sk-parallel-item:last-child::after {align-self: flex-start;width: 50%;}#sk-container-id-3 div.sk-parallel-item:only-child::after {width: 0;}#sk-container-id-3 div.sk-dashed-wrapped {border: 1px dashed gray;margin: 0 0.4em 0.5em 0.4em;box-sizing: border-box;padding-bottom: 0.4em;background-color: white;}#sk-container-id-3 div.sk-label label {font-family: monospace;font-weight: bold;display: inline-block;line-height: 1.2em;}#sk-container-id-3 div.sk-label-container {text-align: center;}#sk-container-id-3 div.sk-container {/* jupyter's `normalize.less` sets `[hidden] { display: none; }` but bootstrap.min.css set `[hidden] { display: none !important; }` so we also need the `!important` here to be able to override the default hidden behavior on the sphinx rendered scikit-learn.org. See: https://github.com/scikit-learn/scikit-learn/issues/21755 */display: inline-block !important;position: relative;}#sk-container-id-3 div.sk-text-repr-fallback {display: none;}</style><div id=\"sk-container-id-3\" class=\"sk-top-container\"><div class=\"sk-text-repr-fallback\"><pre>RandomForestRegressor()</pre><b>In a Jupyter environment, please rerun this cell to show the HTML representation or trust the notebook. <br />On GitHub, the HTML representation is unable to render, please try loading this page with nbviewer.org.</b></div><div class=\"sk-container\" hidden><div class=\"sk-item\"><div class=\"sk-estimator sk-toggleable\"><input class=\"sk-toggleable__control sk-hidden--visually\" id=\"sk-estimator-id-3\" type=\"checkbox\" checked><label for=\"sk-estimator-id-3\" class=\"sk-toggleable__label sk-toggleable__label-arrow\">RandomForestRegressor</label><div class=\"sk-toggleable__content\"><pre>RandomForestRegressor()</pre></div></div></div></div></div>"
      ],
      "text/plain": [
       "RandomForestRegressor()"
      ]
     },
     "execution_count": 98,
     "metadata": {},
     "output_type": "execute_result"
    }
   ],
   "source": [
    "rf = RandomForestRegressor()\n",
    "rf.fit(x_train,y_train)"
   ]
  },
  {
   "cell_type": "code",
   "execution_count": 99,
   "id": "4aea4a23-d121-47fe-9152-317f0a49e3e6",
   "metadata": {},
   "outputs": [],
   "source": [
    "ac4 = rf.score(x_train,y_train)\n",
    "ac5 = rf.score(x_test,y_test)"
   ]
  },
  {
   "cell_type": "code",
   "execution_count": 100,
   "id": "02405300-7216-49fd-8a0b-783e0291b4e3",
   "metadata": {},
   "outputs": [
    {
     "name": "stdout",
     "output_type": "stream",
     "text": [
      "--------------------------------------------------------------------------------\n",
      "The Accuracy of train data is  0.99547751636116\n",
      "--------------------------------------------------------------------------------\n",
      "The accuracy of test data is 0.9736343750355003\n",
      "--------------------------------------------------------------------------------\n"
     ]
    }
   ],
   "source": [
    "print(\"-\"*80)\n",
    "print(\"The Accuracy of train data is \",ac4)\n",
    "print(\"-\"*80)\n",
    "print(\"The accuracy of test data is\",ac5)\n",
    "print(\"-\"*80)"
   ]
  },
  {
   "cell_type": "code",
   "execution_count": 101,
   "id": "406c8462-0fc3-4181-99ca-ef4add032da9",
   "metadata": {},
   "outputs": [],
   "source": [
    "pred3 = dt.predict(x_test)"
   ]
  },
  {
   "cell_type": "code",
   "execution_count": 102,
   "id": "7224dd4f-49a7-4947-99c3-d0820fe06cff",
   "metadata": {},
   "outputs": [
    {
     "data": {
      "text/plain": [
       "array([2150000.,  220000.,  490000., ...,  250000.,  585000.,  800000.])"
      ]
     },
     "execution_count": 102,
     "metadata": {},
     "output_type": "execute_result"
    }
   ],
   "source": [
    "pred3"
   ]
  },
  {
   "cell_type": "code",
   "execution_count": 103,
   "id": "65f16511-ab06-4334-a38a-a2601027d7ad",
   "metadata": {},
   "outputs": [
    {
     "name": "stdout",
     "output_type": "stream",
     "text": [
      "--------------------------------------------------------------------------------\n",
      "Mean squared error is :- 62843480616.57831\n",
      "--------------------------------------------------------------------------------\n"
     ]
    }
   ],
   "source": [
    "ms2 = mean_squared_error(y_test,pred3)\n",
    "print(\"-\"*80)\n",
    "print(\"Mean squared error is :-\",ms2)\n",
    "print(\"-\"*80)"
   ]
  },
  {
   "cell_type": "code",
   "execution_count": 104,
   "id": "b983d9ce-87f7-4995-a310-b0a8b944d271",
   "metadata": {},
   "outputs": [
    {
     "name": "stdout",
     "output_type": "stream",
     "text": [
      "--------------------------------------------------------------------------------\n",
      "Mean absolute error is :- 80233.33771085768\n",
      "--------------------------------------------------------------------------------\n"
     ]
    }
   ],
   "source": [
    "ma2 = mean_absolute_error(y_test,pred3)\n",
    "print(\"-\"*80)\n",
    "print(\"Mean absolute error is :-\",ma2)\n",
    "print(\"-\"*80)"
   ]
  },
  {
   "cell_type": "code",
   "execution_count": 105,
   "id": "ca84703b-b440-4732-adc8-5ffbe14a8e9c",
   "metadata": {},
   "outputs": [
    {
     "name": "stdout",
     "output_type": "stream",
     "text": [
      "--------------------------------------------------------------------------------\n",
      "Mean absolute percentage error is :- 0.17913182289176513\n",
      "--------------------------------------------------------------------------------\n"
     ]
    }
   ],
   "source": [
    "map2 = mean_absolute_percentage_error(y_test,pred3)\n",
    "print(\"-\"*80)\n",
    "print(\"Mean absolute percentage error is :-\",map2)\n",
    "print(\"-\"*80)"
   ]
  },
  {
   "cell_type": "code",
   "execution_count": 106,
   "id": "2fe209dd-b45c-436c-b852-e7408a67dc1e",
   "metadata": {},
   "outputs": [
    {
     "name": "stdout",
     "output_type": "stream",
     "text": [
      "--------------------------------------------------------------------------------\n",
      "r2_score is :- 0.9106178288805218\n",
      "--------------------------------------------------------------------------------\n"
     ]
    }
   ],
   "source": [
    "r2= r2_score(y_test,pred3)\n",
    "print(\"-\"*80)\n",
    "print(\"r2_score is :-\",r2)\n",
    "print(\"-\"*80)"
   ]
  },
  {
   "cell_type": "code",
   "execution_count": null,
   "id": "680b88fd-14c3-41bd-96ac-9cf67267be66",
   "metadata": {},
   "outputs": [],
   "source": []
  },
  {
   "cell_type": "markdown",
   "id": "46e9b16b-b587-45cc-8651-8382a621a66f",
   "metadata": {},
   "source": [
    "# Models Analysis\n",
    "--------------------------------------------------------------------------------"
   ]
  },
  {
   "cell_type": "markdown",
   "id": "60e9892f-d200-4b6e-b06c-02d117dc9665",
   "metadata": {},
   "source": [
    "## Accuracy of Training Data.\n",
    "-----------------------------------------------------------------------------------\n",
    "- K-NN           : 0.922589064130468\n",
    "- Decision Tree  : 0.9998441722246297\n",
    "- Random Forest  : 0.9956081941249877\n",
    "\n",
    "## Accuracy of Testing Data.\n",
    "---------------------------------------------------------------------------------------\n",
    "- K-NN           : 0.9186366933769297\n",
    "- Decision Tree  : 0.9514476803980773\n",
    "- Random Forest  : 0.97555855394354"
   ]
  },
  {
   "cell_type": "markdown",
   "id": "b7b4ee4d-3e03-40f3-8783-58f95430d982",
   "metadata": {},
   "source": [
    "## Mean_squared_error\n",
    "------------------------------------------------------------------------------------------\n",
    "- K-NN : 57205517818.904\n",
    "- Decision Tree : 38103614870.08943\n",
    "- Random Forest : 38103614870.08943\n",
    "\n",
    "## Mean_absolute_error\n",
    "-------------------------------------------------------------------------------\n",
    "- K-NN : 138743.80098360655\n",
    "- Decision Tree : 78577.46598954621\n",
    "- Random Forest : 78577.46598954621\n",
    "\n",
    "## Mean_absolute_percentage_error\n",
    "----------------------------------------------------------------------------\n",
    "- K-NN : 0.38493022877198146\n",
    "- Decision Tree : 0.18067570289696547\n",
    "- Random Forest : 0.18067570289696547\n",
    "\n",
    "## r2_score\n",
    "---------------------------------------------\n",
    "- K-NN : 0.9186366933769297\n",
    "- Decision Tree : 0.9458052960915954\n",
    "- Random Forest : 0.9458052960915954"
   ]
  },
  {
   "cell_type": "code",
   "execution_count": null,
   "id": "157cb735-cc71-441f-b94c-826a44c7743b",
   "metadata": {},
   "outputs": [],
   "source": []
  }
 ],
 "metadata": {
  "kernelspec": {
   "display_name": "Python 3 (ipykernel)",
   "language": "python",
   "name": "python3"
  },
  "language_info": {
   "codemirror_mode": {
    "name": "ipython",
    "version": 3
   },
   "file_extension": ".py",
   "mimetype": "text/x-python",
   "name": "python",
   "nbconvert_exporter": "python",
   "pygments_lexer": "ipython3",
   "version": "3.11.7"
  }
 },
 "nbformat": 4,
 "nbformat_minor": 5
}
